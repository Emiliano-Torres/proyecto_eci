{
 "cells": [
  {
   "cell_type": "markdown",
   "id": "8ff9aaa2-a92d-4bfa-b73a-ac8158bf63e4",
   "metadata": {},
   "source": [
    "# Prededecir recursivo con rolling means por categoria"
   ]
  },
  {
   "cell_type": "markdown",
   "id": "1c04edeb-9bf5-420f-a89b-7f7e24e36575",
   "metadata": {},
   "source": [
    "## Data"
   ]
  },
  {
   "cell_type": "code",
   "execution_count": 1,
   "id": "85dab2c2-d218-410b-94f3-98382659468f",
   "metadata": {},
   "outputs": [],
   "source": [
    "from DataLoader import importar_ventas,leer_csv\n",
    "ventas=importar_ventas()\n"
   ]
  },
  {
   "cell_type": "code",
   "execution_count": 2,
   "id": "1e52c355-16ca-4821-bda8-0c38f1c94ca5",
   "metadata": {},
   "outputs": [
    {
     "data": {
      "text/plain": [
       "74"
      ]
     },
     "execution_count": 2,
     "metadata": {},
     "output_type": "execute_result"
    }
   ],
   "source": [
    "from DataLoader import importar_ventas,leer_csv\n",
    "len(leer_csv(\"eci_product_master\")[\"subgroup\"].unique())"
   ]
  },
  {
   "cell_type": "code",
   "execution_count": 3,
   "id": "a0c2e6fa-8180-4eaf-afea-ac3596fac0f1",
   "metadata": {},
   "outputs": [],
   "source": [
    "TARGET = [\"total_sales\"]\n",
    "FEATURES_PRIMITIVAS = ['date','day', 'month',\n",
    "                       \"store_cod\",'subgroup_cod', 'year',\"cluster\",\"mean_price\" ]\n",
    "\n",
    "FEATURES=[\n",
    "    'subgroup_cod', 'total_sales_lag_1', 'year',\n",
    "    'anual_sin_1', 'anual_cos_1', 'mensual_sin_1', 'mensual_sin_2',\n",
    "    'mean_price_rolling_mean_7d', 'mean_price_rolling_sum_14d',\n",
    "    'total_sales_rolling_mean_7d', 'total_sales_rolling_sum_7d',\n",
    "    'total_sales_rolling_mean_14d', 'total_sales_rolling_sum_14d'\n",
    "]"
   ]
  },
  {
   "cell_type": "code",
   "execution_count": 4,
   "id": "ebcb2ee5-8ab0-41c5-8a8c-fbd9895ffd65",
   "metadata": {},
   "outputs": [],
   "source": [
    "def obtener_buffers(ventas):\n",
    "    subgroups=ventas[\"subgroup_cod\"].unique()\n",
    "    stores=ventas[\"store_cod\"].unique()\n",
    "    buffers={}\n",
    "    ventas=ventas.sort_values([\"subgroup_cod\",\"store_cod\",\"date\"])\n",
    "    for subgroup in subgroups:\n",
    "        for store in stores:\n",
    "            data=ventas[((ventas[\"subgroup_cod\"]==subgroup) & (ventas[\"store_cod\"]==store))]\n",
    "            buffers[(subgroup,store,\"mean_price\")]= data[\"mean_price\"].tail(14).to_numpy()\n",
    "            buffers[(subgroup,store,\"total_sales\")]=data[\"total_sales\"].tail(14).to_numpy()\n",
    "    return buffers"
   ]
  },
  {
   "cell_type": "code",
   "execution_count": null,
   "id": "19bec51c-ff5e-49d6-98f3-0b44a8028352",
   "metadata": {},
   "outputs": [],
   "source": [
    "buffers=obtener_buffers(ventas)\n"
   ]
  },
  {
   "cell_type": "code",
   "execution_count": null,
   "id": "63b1abc3-abaf-4507-a726-2d52f538f5cd",
   "metadata": {},
   "outputs": [],
   "source": [
    "from DataLoader import generar_subgroup_cod,generar_store_cod, leer_csv,subgroup_category\n",
    "from DataLoader import agregar_fourier\n",
    "import pandas as pd\n",
    "rolling_features=['mean_price_rolling_mean_7d', 'mean_price_rolling_sum_14d',\n",
    "    'total_sales_rolling_mean_7d', 'total_sales_rolling_sum_7d',\n",
    "    'total_sales_rolling_mean_14d', 'total_sales_rolling_sum_14d',\"total_sales_lag_1\"]\n",
    "\n",
    "\n",
    "def test_recursivo(rolling_features,buffers):\n",
    "    test=leer_csv(\"ids_test.csv\")\n",
    "    test[['store_id', 'subgroup', 'date']] = test[\"store_subgroup_date_id\"].str.split('_', expand=True)\n",
    "    test[\"store_cod\"]=test[\"store_id\"].map(generar_store_cod())\n",
    "    test[\"subgroup_cod\"]=test[\"subgroup\"].map(generar_subgroup_cod())\n",
    "    test[\"date\"]=pd.to_datetime(test[\"date\"])\n",
    "    test.index=test[\"date\"]\n",
    "    dia_inicial= pd.to_datetime(\"2024-01-01\")\n",
    "    iniciar=test.loc[test[\"date\"] == dia_inicial, [\"subgroup_cod\",\"store_cod\"]]\n",
    "    \n",
    "    for feature in rolling_features:\n",
    "        test[feature]=0.0 \n",
    "    \n",
    "    \n",
    "    for index,row in iniciar.iterrows():\n",
    "        if row[\"subgroup_cod\"]!=32: #basketball\n",
    "            buffer_total_sales=buffers[(row[\"subgroup_cod\"],row[\"store_cod\"],\"total_sales\")]\n",
    "            buffer_mean_price=buffers[(row[\"subgroup_cod\"],row[\"store_cod\"],\"mean_price\")]\n",
    "            for feature in rolling_features:\n",
    "                if \"total_sales\" in feature:\n",
    "                    if \"rolling_mean\" in feature:\n",
    "                        if \"7\" in feature:\n",
    "                            test.loc[index,feature]=buffer_total_sales[len(buffer_total_sales)-7:len(buffer_total_sales)].mean()\n",
    "                        else:\n",
    "                            test.loc[index,feature]=buffer_total_sales[len(buffer_total_sales)-14:len(buffer_total_sales)].mean()\n",
    "                    \n",
    "                    elif \"rolling_sum\" in feature:\n",
    "                        if \"7\" in feature:                   \n",
    "                            test.loc[index,feature]=buffer_total_sales[len(buffer_total_sales)-7:len(buffer_total_sales)].sum()\n",
    "                        else:\n",
    "                            test.loc[index,feature]=buffer_total_sales[len(buffer_total_sales)-14:len(buffer_total_sales)].sum()\n",
    "                    elif \"lag_1\" in feature:\n",
    "                        test.loc[index,feature]=buffer_total_sales[-1]\n",
    "                else:\n",
    "                    if \"rolling_mean\" in feature:\n",
    "                        if \"7\" in feature:\n",
    "                            test.loc[index,feature]=buffer_mean_price[len(buffer_mean_price)-7:len(buffer_mean_price)].mean()\n",
    "                        else:  \n",
    "                            test.loc[index,feature]=buffer_mean_price[len(buffer_mean_price)-14:len(buffer_mean_price)].mean()\n",
    "                    else:\n",
    "                        if \"7\" in feature:                                           \n",
    "                            test.loc[index,feature]=buffer_mean_price[len(buffer_mean_price)-7:len(buffer_mean_price)].sum()\n",
    "                        else:\n",
    "                            test.loc[index,feature]=buffer_mean_price[len(buffer_mean_price)-14:len(buffer_mean_price)].sum()\n",
    "\n",
    "        \n",
    "        test[\"category\"]=test[\"subgroup\"].map(subgroup_category())\n",
    "        return test\n",
    "test=test_recursivo(['mean_price_rolling_mean_7d', 'mean_price_rolling_sum_14d',\n",
    "    'total_sales_rolling_mean_7d', 'total_sales_rolling_sum_7d',\n",
    "    'total_sales_rolling_mean_14d', 'total_sales_rolling_sum_14d',\"total_sales_lag_1\"],buffers)\n",
    "test\n",
    "\n",
    "\n",
    "\n",
    "\n",
    "agregar_fourier(test,2)"
   ]
  },
  {
   "cell_type": "code",
   "execution_count": null,
   "id": "9ee2d8cd-1971-4754-89b8-192a9f5ab7dc",
   "metadata": {},
   "outputs": [],
   "source": [
    "from DataLoader import agregar_fourier,generar_rolling_features,generar_lag_features\n",
    "agregar_fourier(ventas,2)\n",
    "ventas=generar_rolling_features(ventas,\"mean_price\",[1,2],[\"subgroup_cod\",\"store_cod\"])\n",
    "ventas=generar_rolling_features(ventas,\"total_sales\",[1,2],[\"subgroup_cod\",\"store_cod\"])\n",
    "generar_lag_features(ventas,\"total_sales\",1)\n",
    "test[\"year\"]=test[\"date\"].dt.year"
   ]
  },
  {
   "cell_type": "code",
   "execution_count": null,
   "id": "e0c5a449-51da-438a-9447-f397dc540066",
   "metadata": {},
   "outputs": [],
   "source": [
    "test=test.reset_index(drop=True)\n",
    "test"
   ]
  },
  {
   "cell_type": "code",
   "execution_count": null,
   "id": "6c93bb31-e90b-4650-ae4b-5ce7cf10c7d6",
   "metadata": {},
   "outputs": [],
   "source": [
    "import xgboost as xgb\n",
    "import datetime as dt\n",
    "import numpy as np\n",
    "model = xgb.XGBRegressor( \n",
    "    n_estimators=500,           # alto para usar early stopping\n",
    "    learning_rate=0.05,          # más bajo para no memorizar rápido\n",
    "    max_depth=4,                 # menos profundidad => menos overfit\n",
    "    #min_child_weight=5,          # evita que splits se hagan con poca data\n",
    "    #subsample=0.8,                # usa solo parte de las filas en cada árbol\n",
    "    colsample_bytree=1,         # usa solo parte de las columnas en cada árbol\n",
    "    reg_lambda=1,                 # L2 regularization\n",
    "    reg_alpha=20,                  # L1 regularization\n",
    "   # gamma=0.2,                   # penaliza splits innecesarios\n",
    "    random_state=42,\n",
    "    n_jobs=-1,\n",
    "                        )\n",
    "TARGET = [\"total_sales\"]\n",
    "FEATURES=[\n",
    "    'subgroup_cod', 'total_sales_lag_1', 'year',\n",
    "    'anual_sin_1', 'anual_cos_1', 'mensual_sin_1', 'mensual_sin_2',\n",
    "    'mean_price_rolling_mean_7d', 'mean_price_rolling_sum_14d',\n",
    "    'total_sales_rolling_mean_7d', 'total_sales_rolling_sum_7d',\n",
    "    'total_sales_rolling_mean_14d', 'total_sales_rolling_sum_14d'\n",
    "]\n",
    "ventas[\"total_sales\"]=ventas[\"total_sales\"].fillna(0)\n",
    "train_cat=ventas[[\"category\"]+FEATURES]\n",
    "separador = \"category\"\n",
    "bins = ventas[separador].unique()\n",
    "test[\"pred\"]=0.0\n",
    "for bucket in bins:\n",
    "    data_bucket=ventas[ventas[separador]==bucket]\n",
    "    dias_restantes=test\n",
    "    X_train=data_bucket[FEATURES]\n",
    "    y_train=data_bucket[TARGET]\n",
    "    model.fit(X_train,y_train)\n",
    "    for i in range(7):\n",
    "        siguiente=dias_restantes.groupby([\"subgroup_cod\",\"store_cod\"]).head(1)\n",
    "        dias_restantes=dias_restantes.drop(siguiente.index)\n",
    "        print(f\"dias predichos: {i}\")\n",
    "        prediccion=model.predict(siguiente[FEATURES])\n",
    "        siguiente.loc[:,\"pred\"]=prediccion\n",
    "        lag=siguiente[\"pred\"]\n",
    "        test.loc[siguiente.index,\"pred\"]=siguiente[\"pred\"]\n",
    "        if i<6:\n",
    "            lag.index=siguiente.index+1\n",
    "            dias_restantes.loc[lag.index,\"total_sales_lag_1\"]=lag\n",
    "            \n",
    "            for index,row in dias_restantes.head(1).iterrows():\n",
    "                if row[\"subgroup_cod\"]!=32: #basketball\n",
    "                    total_sales_pred=siguiente[((siguiente[\"subgroup_cod\"]==row[\"subgroup_cod\"])& (siguiente[\"store_cod\"]==row[\"store_cod\"]))][\"pred\"].to_numpy()\n",
    "                    buffers[(row[\"subgroup_cod\"],row[\"store_cod\"],\"total_sales\")]=np.concatenate([buffers[(row[\"subgroup_cod\"],row[\"store_cod\"],\"total_sales\")],total_sales_pred])\n",
    "                    buffer_total_sales=buffers[(row[\"subgroup_cod\"],row[\"store_cod\"],\"total_sales\")]\n",
    "                    \n",
    "                    buffers[(row[\"subgroup_cod\"],row[\"store_cod\"],\"mean_price\")]=np.concatenate([buffers[(row[\"subgroup_cod\"],row[\"store_cod\"],\"mean_price\")],[buffers[(row[\"subgroup_cod\"],row[\"store_cod\"],\"mean_price\")][-1]*(1+np.random.uniform(-0.1, 0.1))]])\n",
    "                    buffer_mean_price=buffers[(row[\"subgroup_cod\"],row[\"store_cod\"],\"mean_price\")]\n",
    "                                                                \n",
    "                    for feature in rolling_features:\n",
    "                        if \"total_sales\" in feature:\n",
    "                            if \"rolling_mean\" in feature:\n",
    "                                if \"7\" in feature:\n",
    "                                    dias_restantes.loc[index,feature]=buffer_total_sales[len(buffer_total_sales)-7:len(buffer_total_sales)].mean()\n",
    "                                else:\n",
    "                                    dias_restantes.loc[index,feature]=buffer_total_sales[len(buffer_total_sales)-14:len(buffer_total_sales)].mean()\n",
    "                            \n",
    "                            elif \"rolling_sum\" in feature:\n",
    "                                if \"7\" in feature:                   \n",
    "                                    dias_restantes.loc[index,feature]=buffer_total_sales[len(buffer_total_sales)-7:len(buffer_total_sales)].sum()\n",
    "                                else:\n",
    "                                    dias_restantes.loc[index,feature]=buffer_total_sales[len(buffer_total_sales)-14:len(buffer_total_sales)].sum()\n",
    "                            elif \"lag_1\" in feature:\n",
    "                                dias_restantes.loc[index,feature]=buffer_total_sales[-1]\n",
    "                        else:\n",
    "                            if \"rolling_mean\" in feature:\n",
    "                                if \"7\" in feature:\n",
    "                                    dias_restantes.loc[index,feature]=buffer_mean_price[len(buffer_mean_price)-7:len(buffer_mean_price)].mean()\n",
    "                                else:  \n",
    "                                    dias_restantes.loc[index,feature]=buffer_mean_price[len(buffer_mean_price)-14:len(buffer_mean_price)].mean()\n",
    "                            else:\n",
    "                                if \"7\" in feature:                                           \n",
    "                                    dias_restantes.loc[index,feature]=buffer_mean_price[len(buffer_mean_price)-7:len(buffer_mean_price)].sum()\n",
    "                                else:\n",
    "                                    dias_restantes.loc[index,feature]=buffer_mean_price[len(buffer_mean_price)-14:len(buffer_mean_price)].sum()\n",
    "        \n"
   ]
  },
  {
   "cell_type": "code",
   "execution_count": null,
   "id": "b089df0b-0294-4e5b-b8ae-3a004b6ee7d5",
   "metadata": {},
   "outputs": [],
   "source": [
    "test[test[\"pred\"].isna()]"
   ]
  },
  {
   "cell_type": "code",
   "execution_count": null,
   "id": "1c820b5d-f11f-4202-8b56-b005205f4621",
   "metadata": {},
   "outputs": [],
   "source": [
    "resultados=dict(zip(test[\"store_subgroup_date_id\"],test[\"pred\"]))\n",
    "kaggle=pd.read_csv(\"ids_test.csv\")\n",
    "kaggle[\"TOTAL_SALES\"]=kaggle[\"STORE_SUBGROUP_DATE_ID\"].map(resultados)"
   ]
  },
  {
   "cell_type": "code",
   "execution_count": 42,
   "id": "f3e1bd14-b01e-41fb-9619-6b98d35fbd8f",
   "metadata": {},
   "outputs": [],
   "source": [
    "kaggle.to_csv(\"Pred_recursiva_xgboost.csv\",index=False)"
   ]
  },
  {
   "cell_type": "code",
   "execution_count": null,
   "id": "695ac13a-7e7e-4c8e-ba89-6d97fdbc79b4",
   "metadata": {},
   "outputs": [],
   "source": []
  }
 ],
 "metadata": {
  "kernelspec": {
   "display_name": "Python 3 (ipykernel)",
   "language": "python",
   "name": "python3"
  },
  "language_info": {
   "codemirror_mode": {
    "name": "ipython",
    "version": 3
   },
   "file_extension": ".py",
   "mimetype": "text/x-python",
   "name": "python",
   "nbconvert_exporter": "python",
   "pygments_lexer": "ipython3",
   "version": "3.12.4"
  }
 },
 "nbformat": 4,
 "nbformat_minor": 5
}
