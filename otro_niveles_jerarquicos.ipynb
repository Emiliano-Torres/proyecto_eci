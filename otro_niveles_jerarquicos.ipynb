{
 "cells": [
  {
   "cell_type": "code",
   "execution_count": 10,
   "id": "b7979c74-5f5b-4ef3-b147-2359ff458cad",
   "metadata": {},
   "outputs": [],
   "source": [
    "from DataLoader import importar_ventas,leer_csv,agregar_fourier,preparar_test,generar_lag_features\n",
    "from DataLoader import generar_rolling_features,crear_archivo_kaggle\n",
    "import numpy as np\n",
    "from sklearn.model_selection import GridSearchCV,PredefinedSplit, RandomizedSearchCV\n",
    "from xgboost import XGBRegressor\n",
    "import pandas as pd"
   ]
  },
  {
   "cell_type": "code",
   "execution_count": 8,
   "id": "a38b9717-defb-4578-84b6-7203a29223d6",
   "metadata": {},
   "outputs": [],
   "source": [
    "def predecir(separador):\n",
    "    return "
   ]
  },
  {
   "cell_type": "code",
   "execution_count": 6,
   "id": "9076bf70-ff88-46cc-9c0d-dd4964284bd8",
   "metadata": {},
   "outputs": [],
   "source": [
    "ventas=importar_ventas()\n",
    "ventas\n",
    "agregar_fourier(ventas,2)\n",
    "#ventas=generar_rolling_features(ventas,\"demand\",[1,2],[\"subgroup_cod\",\"store_cod\"])\n",
    "ventas=generar_rolling_features(ventas,\"mean_price\",[1,2],[\"subgroup_cod\",\"store_cod\"])\n",
    "ventas=generar_rolling_features(ventas,\"total_sales\",[1,2],[\"subgroup_cod\",\"store_cod\"])\n"
   ]
  },
  {
   "cell_type": "code",
   "execution_count": 11,
   "id": "7069967d-34af-458c-a264-fe5ab2137d68",
   "metadata": {},
   "outputs": [],
   "source": [
    "for i in range(1,8): #agregamos lag a 7 dias por que vamos a predecir 7 dias\n",
    "\tgenerar_lag_features(ventas,\"total_sales\",i)"
   ]
  },
  {
   "cell_type": "code",
   "execution_count": 14,
   "id": "11daf160-24e2-48a9-a015-03920bbc9bc1",
   "metadata": {},
   "outputs": [],
   "source": [
    "ventas[\"total_sales\"]=ventas[\"total_sales\"].fillna(0)"
   ]
  },
  {
   "cell_type": "code",
   "execution_count": 4,
   "id": "37beff36-0e53-45a3-91d4-585b1b6c8c74",
   "metadata": {},
   "outputs": [
    {
     "name": "stdout",
     "output_type": "stream",
     "text": [
      "23\n",
      "323148\n",
      "210201\n",
      "212403\n",
      "188989\n",
      "182576\n",
      "173558\n",
      "209727\n",
      "102800\n",
      "366582\n",
      "189105\n",
      "204801\n",
      "184253\n",
      "258450\n",
      "174080\n",
      "184564\n",
      "279056\n",
      "271314\n",
      "208328\n",
      "344324\n",
      "161916\n",
      "194389\n",
      "223177\n",
      "359052\n"
     ]
    }
   ],
   "source": [
    "print(len(ventas[\"group\"].unique()))\n",
    "for group in ventas[\"group\"].unique():\n",
    "    print(len(ventas[ventas[\"group\"]==group])) #tambien podria ser"
   ]
  },
  {
   "cell_type": "code",
   "execution_count": 61,
   "id": "63f5ab1f-2310-452b-8ddd-0bf7d0cdfc69",
   "metadata": {},
   "outputs": [
    {
     "name": "stderr",
     "output_type": "stream",
     "text": [
      "C:\\Users\\emili\\AppData\\Local\\Temp\\ipykernel_11564\\1824466024.py:47: SettingWithCopyWarning: \n",
      "A value is trying to be set on a copy of a slice from a DataFrame.\n",
      "Try using .loc[row_indexer,col_indexer] = value instead\n",
      "\n",
      "See the caveats in the documentation: https://pandas.pydata.org/pandas-docs/stable/user_guide/indexing.html#returning-a-view-versus-a-copy\n",
      "  data_bucket.loc[data_bucket.index,\"ps\"]=-1\n"
     ]
    },
    {
     "name": "stdout",
     "output_type": "stream",
     "text": [
      "Fitting 1 folds for each of 48 candidates, totalling 48 fits\n",
      "Mejores parámetros: {'colsample_bytree': 1, 'learning_rate': 0.05, 'max_depth': 4, 'n_estimators': 500, 'objective': 'reg:squarederror'}\n",
      "Mejor RMSE en validación: 2.311519698926529\n"
     ]
    },
    {
     "name": "stderr",
     "output_type": "stream",
     "text": [
      "C:\\Users\\emili\\AppData\\Local\\Temp\\ipykernel_11564\\1824466024.py:47: SettingWithCopyWarning: \n",
      "A value is trying to be set on a copy of a slice from a DataFrame.\n",
      "Try using .loc[row_indexer,col_indexer] = value instead\n",
      "\n",
      "See the caveats in the documentation: https://pandas.pydata.org/pandas-docs/stable/user_guide/indexing.html#returning-a-view-versus-a-copy\n",
      "  data_bucket.loc[data_bucket.index,\"ps\"]=-1\n"
     ]
    },
    {
     "name": "stdout",
     "output_type": "stream",
     "text": [
      "Fitting 1 folds for each of 48 candidates, totalling 48 fits\n",
      "Mejores parámetros: {'colsample_bytree': 0.8, 'learning_rate': 0.05, 'max_depth': 6, 'n_estimators': 200, 'objective': 'reg:squarederror'}\n",
      "Mejor RMSE en validación: 2.0809230770998046\n"
     ]
    },
    {
     "name": "stderr",
     "output_type": "stream",
     "text": [
      "C:\\Users\\emili\\AppData\\Local\\Temp\\ipykernel_11564\\1824466024.py:47: SettingWithCopyWarning: \n",
      "A value is trying to be set on a copy of a slice from a DataFrame.\n",
      "Try using .loc[row_indexer,col_indexer] = value instead\n",
      "\n",
      "See the caveats in the documentation: https://pandas.pydata.org/pandas-docs/stable/user_guide/indexing.html#returning-a-view-versus-a-copy\n",
      "  data_bucket.loc[data_bucket.index,\"ps\"]=-1\n"
     ]
    },
    {
     "name": "stdout",
     "output_type": "stream",
     "text": [
      "Fitting 1 folds for each of 48 candidates, totalling 48 fits\n",
      "Mejores parámetros: {'colsample_bytree': 1, 'learning_rate': 0.05, 'max_depth': 6, 'n_estimators': 500, 'objective': 'reg:squarederror'}\n",
      "Mejor RMSE en validación: 2.0183582906692012\n"
     ]
    },
    {
     "name": "stderr",
     "output_type": "stream",
     "text": [
      "C:\\Users\\emili\\AppData\\Local\\Temp\\ipykernel_11564\\1824466024.py:47: SettingWithCopyWarning: \n",
      "A value is trying to be set on a copy of a slice from a DataFrame.\n",
      "Try using .loc[row_indexer,col_indexer] = value instead\n",
      "\n",
      "See the caveats in the documentation: https://pandas.pydata.org/pandas-docs/stable/user_guide/indexing.html#returning-a-view-versus-a-copy\n",
      "  data_bucket.loc[data_bucket.index,\"ps\"]=-1\n"
     ]
    },
    {
     "name": "stdout",
     "output_type": "stream",
     "text": [
      "Fitting 1 folds for each of 48 candidates, totalling 48 fits\n",
      "Mejores parámetros: {'colsample_bytree': 1, 'learning_rate': 0.1, 'max_depth': 4, 'n_estimators': 200, 'objective': 'reg:squarederror'}\n",
      "Mejor RMSE en validación: 2.4648140231563977\n"
     ]
    },
    {
     "name": "stderr",
     "output_type": "stream",
     "text": [
      "C:\\Users\\emili\\AppData\\Local\\Temp\\ipykernel_11564\\1824466024.py:47: SettingWithCopyWarning: \n",
      "A value is trying to be set on a copy of a slice from a DataFrame.\n",
      "Try using .loc[row_indexer,col_indexer] = value instead\n",
      "\n",
      "See the caveats in the documentation: https://pandas.pydata.org/pandas-docs/stable/user_guide/indexing.html#returning-a-view-versus-a-copy\n",
      "  data_bucket.loc[data_bucket.index,\"ps\"]=-1\n"
     ]
    },
    {
     "name": "stdout",
     "output_type": "stream",
     "text": [
      "Fitting 1 folds for each of 48 candidates, totalling 48 fits\n",
      "Mejores parámetros: {'colsample_bytree': 0.8, 'learning_rate': 0.05, 'max_depth': 6, 'n_estimators': 200, 'objective': 'reg:squarederror'}\n",
      "Mejor RMSE en validación: 2.1968518354016546\n"
     ]
    },
    {
     "name": "stderr",
     "output_type": "stream",
     "text": [
      "C:\\Users\\emili\\AppData\\Local\\Temp\\ipykernel_11564\\1824466024.py:47: SettingWithCopyWarning: \n",
      "A value is trying to be set on a copy of a slice from a DataFrame.\n",
      "Try using .loc[row_indexer,col_indexer] = value instead\n",
      "\n",
      "See the caveats in the documentation: https://pandas.pydata.org/pandas-docs/stable/user_guide/indexing.html#returning-a-view-versus-a-copy\n",
      "  data_bucket.loc[data_bucket.index,\"ps\"]=-1\n"
     ]
    },
    {
     "name": "stdout",
     "output_type": "stream",
     "text": [
      "Fitting 1 folds for each of 48 candidates, totalling 48 fits\n",
      "Mejores parámetros: {'colsample_bytree': 0.8, 'learning_rate': 0.1, 'max_depth': 4, 'n_estimators': 500, 'objective': 'reg:squarederror'}\n",
      "Mejor RMSE en validación: 2.411669001644258\n"
     ]
    },
    {
     "name": "stderr",
     "output_type": "stream",
     "text": [
      "C:\\Users\\emili\\AppData\\Local\\Temp\\ipykernel_11564\\1824466024.py:47: SettingWithCopyWarning: \n",
      "A value is trying to be set on a copy of a slice from a DataFrame.\n",
      "Try using .loc[row_indexer,col_indexer] = value instead\n",
      "\n",
      "See the caveats in the documentation: https://pandas.pydata.org/pandas-docs/stable/user_guide/indexing.html#returning-a-view-versus-a-copy\n",
      "  data_bucket.loc[data_bucket.index,\"ps\"]=-1\n"
     ]
    },
    {
     "name": "stdout",
     "output_type": "stream",
     "text": [
      "Fitting 1 folds for each of 48 candidates, totalling 48 fits\n",
      "Mejores parámetros: {'colsample_bytree': 1, 'learning_rate': 0.05, 'max_depth': 6, 'n_estimators': 500, 'objective': 'reg:squarederror'}\n",
      "Mejor RMSE en validación: 2.0724137803376883\n"
     ]
    },
    {
     "name": "stderr",
     "output_type": "stream",
     "text": [
      "C:\\Users\\emili\\AppData\\Local\\Temp\\ipykernel_11564\\1824466024.py:47: SettingWithCopyWarning: \n",
      "A value is trying to be set on a copy of a slice from a DataFrame.\n",
      "Try using .loc[row_indexer,col_indexer] = value instead\n",
      "\n",
      "See the caveats in the documentation: https://pandas.pydata.org/pandas-docs/stable/user_guide/indexing.html#returning-a-view-versus-a-copy\n",
      "  data_bucket.loc[data_bucket.index,\"ps\"]=-1\n"
     ]
    },
    {
     "name": "stdout",
     "output_type": "stream",
     "text": [
      "Fitting 1 folds for each of 48 candidates, totalling 48 fits\n",
      "Mejores parámetros: {'colsample_bytree': 1, 'learning_rate': 0.05, 'max_depth': 4, 'n_estimators': 350, 'objective': 'reg:squarederror'}\n",
      "Mejor RMSE en validación: 2.272388833569273\n"
     ]
    },
    {
     "name": "stderr",
     "output_type": "stream",
     "text": [
      "C:\\Users\\emili\\AppData\\Local\\Temp\\ipykernel_11564\\1824466024.py:47: SettingWithCopyWarning: \n",
      "A value is trying to be set on a copy of a slice from a DataFrame.\n",
      "Try using .loc[row_indexer,col_indexer] = value instead\n",
      "\n",
      "See the caveats in the documentation: https://pandas.pydata.org/pandas-docs/stable/user_guide/indexing.html#returning-a-view-versus-a-copy\n",
      "  data_bucket.loc[data_bucket.index,\"ps\"]=-1\n"
     ]
    },
    {
     "name": "stdout",
     "output_type": "stream",
     "text": [
      "Fitting 1 folds for each of 48 candidates, totalling 48 fits\n",
      "Mejores parámetros: {'colsample_bytree': 1, 'learning_rate': 0.1, 'max_depth': 6, 'n_estimators': 350, 'objective': 'reg:squarederror'}\n",
      "Mejor RMSE en validación: 2.270911223251704\n"
     ]
    },
    {
     "name": "stderr",
     "output_type": "stream",
     "text": [
      "C:\\Users\\emili\\AppData\\Local\\Temp\\ipykernel_11564\\1824466024.py:47: SettingWithCopyWarning: \n",
      "A value is trying to be set on a copy of a slice from a DataFrame.\n",
      "Try using .loc[row_indexer,col_indexer] = value instead\n",
      "\n",
      "See the caveats in the documentation: https://pandas.pydata.org/pandas-docs/stable/user_guide/indexing.html#returning-a-view-versus-a-copy\n",
      "  data_bucket.loc[data_bucket.index,\"ps\"]=-1\n"
     ]
    },
    {
     "name": "stdout",
     "output_type": "stream",
     "text": [
      "Fitting 1 folds for each of 48 candidates, totalling 48 fits\n",
      "Mejores parámetros: {'colsample_bytree': 1, 'learning_rate': 0.1, 'max_depth': 6, 'n_estimators': 350, 'objective': 'reg:squarederror'}\n",
      "Mejor RMSE en validación: 2.0774338692251093\n"
     ]
    },
    {
     "name": "stderr",
     "output_type": "stream",
     "text": [
      "C:\\Users\\emili\\AppData\\Local\\Temp\\ipykernel_11564\\1824466024.py:47: SettingWithCopyWarning: \n",
      "A value is trying to be set on a copy of a slice from a DataFrame.\n",
      "Try using .loc[row_indexer,col_indexer] = value instead\n",
      "\n",
      "See the caveats in the documentation: https://pandas.pydata.org/pandas-docs/stable/user_guide/indexing.html#returning-a-view-versus-a-copy\n",
      "  data_bucket.loc[data_bucket.index,\"ps\"]=-1\n"
     ]
    },
    {
     "name": "stdout",
     "output_type": "stream",
     "text": [
      "Fitting 1 folds for each of 48 candidates, totalling 48 fits\n",
      "Mejores parámetros: {'colsample_bytree': 0.8, 'learning_rate': 0.05, 'max_depth': 6, 'n_estimators': 350, 'objective': 'reg:squarederror'}\n",
      "Mejor RMSE en validación: 2.0230864178977397\n"
     ]
    },
    {
     "name": "stderr",
     "output_type": "stream",
     "text": [
      "C:\\Users\\emili\\AppData\\Local\\Temp\\ipykernel_11564\\1824466024.py:47: SettingWithCopyWarning: \n",
      "A value is trying to be set on a copy of a slice from a DataFrame.\n",
      "Try using .loc[row_indexer,col_indexer] = value instead\n",
      "\n",
      "See the caveats in the documentation: https://pandas.pydata.org/pandas-docs/stable/user_guide/indexing.html#returning-a-view-versus-a-copy\n",
      "  data_bucket.loc[data_bucket.index,\"ps\"]=-1\n"
     ]
    },
    {
     "name": "stdout",
     "output_type": "stream",
     "text": [
      "Fitting 1 folds for each of 48 candidates, totalling 48 fits\n",
      "Mejores parámetros: {'colsample_bytree': 0.8, 'learning_rate': 0.05, 'max_depth': 6, 'n_estimators': 200, 'objective': 'reg:squarederror'}\n",
      "Mejor RMSE en validación: 2.0635550250064805\n"
     ]
    },
    {
     "name": "stderr",
     "output_type": "stream",
     "text": [
      "C:\\Users\\emili\\AppData\\Local\\Temp\\ipykernel_11564\\1824466024.py:47: SettingWithCopyWarning: \n",
      "A value is trying to be set on a copy of a slice from a DataFrame.\n",
      "Try using .loc[row_indexer,col_indexer] = value instead\n",
      "\n",
      "See the caveats in the documentation: https://pandas.pydata.org/pandas-docs/stable/user_guide/indexing.html#returning-a-view-versus-a-copy\n",
      "  data_bucket.loc[data_bucket.index,\"ps\"]=-1\n"
     ]
    },
    {
     "name": "stdout",
     "output_type": "stream",
     "text": [
      "Fitting 1 folds for each of 48 candidates, totalling 48 fits\n",
      "Mejores parámetros: {'colsample_bytree': 1, 'learning_rate': 0.1, 'max_depth': 6, 'n_estimators': 200, 'objective': 'reg:squarederror'}\n",
      "Mejor RMSE en validación: 2.1366228068923583\n"
     ]
    },
    {
     "name": "stderr",
     "output_type": "stream",
     "text": [
      "C:\\Users\\emili\\AppData\\Local\\Temp\\ipykernel_11564\\1824466024.py:47: SettingWithCopyWarning: \n",
      "A value is trying to be set on a copy of a slice from a DataFrame.\n",
      "Try using .loc[row_indexer,col_indexer] = value instead\n",
      "\n",
      "See the caveats in the documentation: https://pandas.pydata.org/pandas-docs/stable/user_guide/indexing.html#returning-a-view-versus-a-copy\n",
      "  data_bucket.loc[data_bucket.index,\"ps\"]=-1\n"
     ]
    },
    {
     "name": "stdout",
     "output_type": "stream",
     "text": [
      "Fitting 1 folds for each of 48 candidates, totalling 48 fits\n",
      "Mejores parámetros: {'colsample_bytree': 0.8, 'learning_rate': 0.05, 'max_depth': 6, 'n_estimators': 500, 'objective': 'reg:squaredlogerror'}\n",
      "Mejor RMSE en validación: 2.1775094235977126\n"
     ]
    },
    {
     "name": "stderr",
     "output_type": "stream",
     "text": [
      "C:\\Users\\emili\\AppData\\Local\\Temp\\ipykernel_11564\\1824466024.py:47: SettingWithCopyWarning: \n",
      "A value is trying to be set on a copy of a slice from a DataFrame.\n",
      "Try using .loc[row_indexer,col_indexer] = value instead\n",
      "\n",
      "See the caveats in the documentation: https://pandas.pydata.org/pandas-docs/stable/user_guide/indexing.html#returning-a-view-versus-a-copy\n",
      "  data_bucket.loc[data_bucket.index,\"ps\"]=-1\n"
     ]
    },
    {
     "name": "stdout",
     "output_type": "stream",
     "text": [
      "Fitting 1 folds for each of 48 candidates, totalling 48 fits\n",
      "Mejores parámetros: {'colsample_bytree': 0.8, 'learning_rate': 0.05, 'max_depth': 6, 'n_estimators': 500, 'objective': 'reg:squarederror'}\n",
      "Mejor RMSE en validación: 1.9235999872193807\n"
     ]
    },
    {
     "name": "stderr",
     "output_type": "stream",
     "text": [
      "C:\\Users\\emili\\AppData\\Local\\Temp\\ipykernel_11564\\1824466024.py:47: SettingWithCopyWarning: \n",
      "A value is trying to be set on a copy of a slice from a DataFrame.\n",
      "Try using .loc[row_indexer,col_indexer] = value instead\n",
      "\n",
      "See the caveats in the documentation: https://pandas.pydata.org/pandas-docs/stable/user_guide/indexing.html#returning-a-view-versus-a-copy\n",
      "  data_bucket.loc[data_bucket.index,\"ps\"]=-1\n"
     ]
    },
    {
     "name": "stdout",
     "output_type": "stream",
     "text": [
      "Fitting 1 folds for each of 48 candidates, totalling 48 fits\n",
      "Mejores parámetros: {'colsample_bytree': 1, 'learning_rate': 0.1, 'max_depth': 6, 'n_estimators': 500, 'objective': 'reg:squaredlogerror'}\n",
      "Mejor RMSE en validación: 2.1665689931245584\n"
     ]
    },
    {
     "name": "stderr",
     "output_type": "stream",
     "text": [
      "C:\\Users\\emili\\AppData\\Local\\Temp\\ipykernel_11564\\1824466024.py:47: SettingWithCopyWarning: \n",
      "A value is trying to be set on a copy of a slice from a DataFrame.\n",
      "Try using .loc[row_indexer,col_indexer] = value instead\n",
      "\n",
      "See the caveats in the documentation: https://pandas.pydata.org/pandas-docs/stable/user_guide/indexing.html#returning-a-view-versus-a-copy\n",
      "  data_bucket.loc[data_bucket.index,\"ps\"]=-1\n"
     ]
    },
    {
     "name": "stdout",
     "output_type": "stream",
     "text": [
      "Fitting 1 folds for each of 48 candidates, totalling 48 fits\n",
      "Mejores parámetros: {'colsample_bytree': 0.8, 'learning_rate': 0.1, 'max_depth': 6, 'n_estimators': 200, 'objective': 'reg:squarederror'}\n",
      "Mejor RMSE en validación: 2.1385269090448094\n"
     ]
    },
    {
     "name": "stderr",
     "output_type": "stream",
     "text": [
      "C:\\Users\\emili\\AppData\\Local\\Temp\\ipykernel_11564\\1824466024.py:47: SettingWithCopyWarning: \n",
      "A value is trying to be set on a copy of a slice from a DataFrame.\n",
      "Try using .loc[row_indexer,col_indexer] = value instead\n",
      "\n",
      "See the caveats in the documentation: https://pandas.pydata.org/pandas-docs/stable/user_guide/indexing.html#returning-a-view-versus-a-copy\n",
      "  data_bucket.loc[data_bucket.index,\"ps\"]=-1\n"
     ]
    },
    {
     "name": "stdout",
     "output_type": "stream",
     "text": [
      "Fitting 1 folds for each of 48 candidates, totalling 48 fits\n",
      "Mejores parámetros: {'colsample_bytree': 0.8, 'learning_rate': 0.05, 'max_depth': 6, 'n_estimators': 500, 'objective': 'reg:squarederror'}\n",
      "Mejor RMSE en validación: 1.8185567610476894\n"
     ]
    },
    {
     "name": "stderr",
     "output_type": "stream",
     "text": [
      "C:\\Users\\emili\\AppData\\Local\\Temp\\ipykernel_11564\\1824466024.py:47: SettingWithCopyWarning: \n",
      "A value is trying to be set on a copy of a slice from a DataFrame.\n",
      "Try using .loc[row_indexer,col_indexer] = value instead\n",
      "\n",
      "See the caveats in the documentation: https://pandas.pydata.org/pandas-docs/stable/user_guide/indexing.html#returning-a-view-versus-a-copy\n",
      "  data_bucket.loc[data_bucket.index,\"ps\"]=-1\n"
     ]
    },
    {
     "name": "stdout",
     "output_type": "stream",
     "text": [
      "Fitting 1 folds for each of 48 candidates, totalling 48 fits\n",
      "Mejores parámetros: {'colsample_bytree': 0.8, 'learning_rate': 0.05, 'max_depth': 6, 'n_estimators': 200, 'objective': 'reg:squarederror'}\n",
      "Mejor RMSE en validación: 2.5060655733276005\n"
     ]
    },
    {
     "name": "stderr",
     "output_type": "stream",
     "text": [
      "C:\\Users\\emili\\AppData\\Local\\Temp\\ipykernel_11564\\1824466024.py:47: SettingWithCopyWarning: \n",
      "A value is trying to be set on a copy of a slice from a DataFrame.\n",
      "Try using .loc[row_indexer,col_indexer] = value instead\n",
      "\n",
      "See the caveats in the documentation: https://pandas.pydata.org/pandas-docs/stable/user_guide/indexing.html#returning-a-view-versus-a-copy\n",
      "  data_bucket.loc[data_bucket.index,\"ps\"]=-1\n"
     ]
    },
    {
     "name": "stdout",
     "output_type": "stream",
     "text": [
      "Fitting 1 folds for each of 48 candidates, totalling 48 fits\n",
      "Mejores parámetros: {'colsample_bytree': 1, 'learning_rate': 0.05, 'max_depth': 4, 'n_estimators': 500, 'objective': 'reg:squarederror'}\n",
      "Mejor RMSE en validación: 2.1976055304499145\n"
     ]
    },
    {
     "name": "stderr",
     "output_type": "stream",
     "text": [
      "C:\\Users\\emili\\AppData\\Local\\Temp\\ipykernel_11564\\1824466024.py:47: SettingWithCopyWarning: \n",
      "A value is trying to be set on a copy of a slice from a DataFrame.\n",
      "Try using .loc[row_indexer,col_indexer] = value instead\n",
      "\n",
      "See the caveats in the documentation: https://pandas.pydata.org/pandas-docs/stable/user_guide/indexing.html#returning-a-view-versus-a-copy\n",
      "  data_bucket.loc[data_bucket.index,\"ps\"]=-1\n"
     ]
    },
    {
     "name": "stdout",
     "output_type": "stream",
     "text": [
      "Fitting 1 folds for each of 48 candidates, totalling 48 fits\n",
      "Mejores parámetros: {'colsample_bytree': 0.8, 'learning_rate': 0.1, 'max_depth': 4, 'n_estimators': 500, 'objective': 'reg:squarederror'}\n",
      "Mejor RMSE en validación: 2.4271779823607127\n"
     ]
    },
    {
     "name": "stderr",
     "output_type": "stream",
     "text": [
      "C:\\Users\\emili\\AppData\\Local\\Temp\\ipykernel_11564\\1824466024.py:47: SettingWithCopyWarning: \n",
      "A value is trying to be set on a copy of a slice from a DataFrame.\n",
      "Try using .loc[row_indexer,col_indexer] = value instead\n",
      "\n",
      "See the caveats in the documentation: https://pandas.pydata.org/pandas-docs/stable/user_guide/indexing.html#returning-a-view-versus-a-copy\n",
      "  data_bucket.loc[data_bucket.index,\"ps\"]=-1\n"
     ]
    },
    {
     "name": "stdout",
     "output_type": "stream",
     "text": [
      "Fitting 1 folds for each of 48 candidates, totalling 48 fits\n",
      "Mejores parámetros: {'colsample_bytree': 0.8, 'learning_rate': 0.1, 'max_depth': 4, 'n_estimators': 500, 'objective': 'reg:squaredlogerror'}\n",
      "Mejor RMSE en validación: 2.5717356758920578\n"
     ]
    },
    {
     "name": "stderr",
     "output_type": "stream",
     "text": [
      "C:\\Users\\emili\\AppData\\Local\\Temp\\ipykernel_11564\\1824466024.py:47: SettingWithCopyWarning: \n",
      "A value is trying to be set on a copy of a slice from a DataFrame.\n",
      "Try using .loc[row_indexer,col_indexer] = value instead\n",
      "\n",
      "See the caveats in the documentation: https://pandas.pydata.org/pandas-docs/stable/user_guide/indexing.html#returning-a-view-versus-a-copy\n",
      "  data_bucket.loc[data_bucket.index,\"ps\"]=-1\n"
     ]
    },
    {
     "name": "stdout",
     "output_type": "stream",
     "text": [
      "Fitting 1 folds for each of 48 candidates, totalling 48 fits\n",
      "Mejores parámetros: {'colsample_bytree': 0.8, 'learning_rate': 0.05, 'max_depth': 6, 'n_estimators': 200, 'objective': 'reg:squaredlogerror'}\n",
      "Mejor RMSE en validación: 2.1824601949967866\n"
     ]
    }
   ],
   "source": [
    "#model=XGBRegressor()\n",
    "separador=\"group\"\n",
    "bins=ventas[separador].unique()\n",
    "TARGET=[\"demand\"]\n",
    "FEATURES=[#'mean_price', #'std_price', \n",
    "          'max_price', 'min_price',\n",
    "        'cluster', #'store_cod', \n",
    "        # 'subgroup_cod', #'day',\n",
    "       #'month', \n",
    "        'year', 'anual_sin_1',\n",
    "    'anual_cos_1', 'mensual_sin_1',\n",
    "       #'mensual_cos_1', \n",
    "        #'anual_sin_2', 'anual_cos_2', \n",
    "    'mensual_sin_2', #'demand_rolling_mean_7d',\n",
    "       'demand_rolling_sum_7d', \n",
    "    #'demand_rolling_mean_28d',\n",
    "       #'demand_rolling_sum_28d'\n",
    "       #'mensual_cos_2',\n",
    "        # 'mean_price_rolling_mean_7d',\n",
    "       #'mean_price_rolling_sum_7d', \n",
    "    #'mean_price_rolling_mean_28d',\n",
    "       #'mean_price_rolling_sum_28d'   \n",
    "]\n",
    "evals_result={}\n",
    "\n",
    "# Diccionario para guardar resultados por bucket\n",
    "resultados_por_bucket = {}\n",
    "\n",
    "# Grilla de hiperparámetros\n",
    "param_grid = {\n",
    "    'n_estimators': [200,350,500],\n",
    "    'max_depth': [4, 6],\n",
    "    'learning_rate': [0.05, 0.1],\n",
    "    #'subsample': [0.8, 1],\n",
    "    'colsample_bytree': [0.8, 1],\n",
    "    #'reg_alpha': [0, 5],\n",
    "    #'reg_lambda': [1, 5]\n",
    "    \"objective\":[\"reg:squaredlogerror\",\"reg:squarederror\"]\n",
    "}\n",
    "\n",
    "for bucket in bins:\n",
    "    data_bucket = ventas[ventas[separador] == bucket]\n",
    "    \n",
    "    # Crear test: últimas 7 filas por grupo\n",
    "    test = data_bucket.groupby(['store_cod', 'subgroup_cod']).tail(7)\n",
    "    train = data_bucket.drop(test.index)\n",
    "    data_bucket.loc[data_bucket.index,\"ps\"]=-1\n",
    "    data_bucket.loc[test.index,\"ps\"]=0\n",
    "\n",
    "    test_fold=data_bucket[\"ps\"]\n",
    "    # Creamos el split\n",
    "    ps = PredefinedSplit(test_fold)\n",
    "\n",
    "    #definimos el modelo\n",
    "    \n",
    "    reg = XGBRegressor(\n",
    "    #reducir el numero de columnas aumenta la importancia de std_price\n",
    "    )\n",
    "\n",
    "    grid_search = GridSearchCV(\n",
    "        estimator=reg,\n",
    "        param_grid=param_grid,\n",
    "        scoring='neg_root_mean_squared_error',\n",
    "        cv=ps,\n",
    "        verbose=2,\n",
    "        n_jobs=-1\n",
    "    )\n",
    "    \n",
    "    grid_search.fit(data_bucket[FEATURES], data_bucket[TARGET])\n",
    "\n",
    "    # Guardar resultados\n",
    "    resultados_por_bucket[bucket] = {\n",
    "        'best_params': grid_search.best_params_,\n",
    "        'best_score': -grid_search.best_score_  # lo paso a positivo\n",
    "    }\n",
    "    \n",
    "    print(\"Mejores parámetros:\", grid_search.best_params_)\n",
    "    print(\"Mejor RMSE en validación:\", -grid_search.best_score_)    "
   ]
  },
  {
   "cell_type": "code",
   "execution_count": 65,
   "id": "4c47a048-5ef6-43c4-b723-cd51b9e5e486",
   "metadata": {},
   "outputs": [
    {
     "name": "stdout",
     "output_type": "stream",
     "text": [
      "Men rmse: 2.311519698926529\n",
      "Fiction rmse: 2.0809230770998046\n",
      "Audio rmse: 2.0183582906692012\n",
      "Computing rmse: 2.4648140231563977\n",
      "Games rmse: 2.1968518354016546\n",
      "Outdoor rmse: 2.411669001644258\n",
      "Non-Fiction rmse: 2.0724137803376883\n",
      "Team Sports rmse: 2.272388833569273\n",
      "Educational rmse: 2.270911223251704\n",
      "Skincare rmse: 2.0774338692251093\n",
      "Cookware rmse: 2.0230864178977397\n",
      "Appliances rmse: 2.0635550250064805\n",
      "Children rmse: 2.1366228068923583\n",
      "Fitness rmse: 2.1775094235977126\n",
      "Furniture rmse: 1.9235999872193807\n",
      "Pantry rmse: 2.1665689931245584\n",
      "Beverages rmse: 2.1385269090448094\n",
      "Mobile rmse: 1.8185567610476894\n",
      "Snacks rmse: 2.5060655733276005\n",
      "Action rmse: 2.1976055304499145\n",
      "Haircare rmse: 2.4271779823607127\n",
      "Makeup rmse: 2.5717356758920578\n",
      "Women rmse: 2.1824601949967866\n",
      "2.196102387571279\n"
     ]
    }
   ],
   "source": [
    "resultados_por_bucket\n",
    "acum=0\n",
    "for key in resultados_por_bucket.keys():\n",
    "    \n",
    "    acum+=resultados_por_bucket[key]['best_score']\n",
    "    print(key+ \" rmse: \"+str(resultados_por_bucket[key]['best_score']))\n",
    "print(acum/len(resultados_por_bucket.keys()))"
   ]
  },
  {
   "cell_type": "code",
   "execution_count": null,
   "id": "5b746c65-6df7-4c53-bf31-fc7af1a7b06f",
   "metadata": {},
   "outputs": [],
   "source": [
    "from inline_sql import sql, sql_val\n",
    "\n",
    "taka=sql^\"\"\"SELECT DISTINCT category, \"group\" FROM ventas order by category\"\"\"\n",
    "taka[\"dict\"]=taka[\"group\"].map(resultados_por_bucket)\n",
    "taka[\"rmse\"]=0\n",
    "taka[\"params\"]={}\n",
    "for i in range(len(taka)):\n",
    "    fila=taka[\"dict\"].iloc[i]\n",
    "    taka[\"rmse\"].iloc[i]=fila[\"best_score\"]\n",
    "    taka[\"params\"].iloc[i]=fila[\"best_params\"]\n",
    "taka.to_csv(\"prueba_parametro_por_grupo.csv\")"
   ]
  },
  {
   "cell_type": "code",
   "execution_count": 87,
   "id": "762838e0-9732-4d91-a58d-ae7e2c0abbc0",
   "metadata": {},
   "outputs": [],
   "source": [
    "taka.to_csv(\"prueba_parametro_por_grupo.csv\")"
   ]
  },
  {
   "cell_type": "code",
   "execution_count": 16,
   "id": "acf5e7b9-cbba-43fd-ad93-5e8708d25f2a",
   "metadata": {},
   "outputs": [
    {
     "name": "stderr",
     "output_type": "stream",
     "text": [
      "C:\\Users\\emili\\AppData\\Local\\Temp\\ipykernel_15064\\3659359380.py:73: SettingWithCopyWarning: \n",
      "A value is trying to be set on a copy of a slice from a DataFrame.\n",
      "Try using .loc[row_indexer,col_indexer] = value instead\n",
      "\n",
      "See the caveats in the documentation: https://pandas.pydata.org/pandas-docs/stable/user_guide/indexing.html#returning-a-view-versus-a-copy\n",
      "  data_bucket.loc[data_bucket.index,\"ps\"]=-1\n"
     ]
    },
    {
     "name": "stdout",
     "output_type": "stream",
     "text": [
      "Fitting 1 folds for each of 10 candidates, totalling 10 fits\n"
     ]
    },
    {
     "name": "stderr",
     "output_type": "stream",
     "text": [
      "C:\\Users\\emili\\AppData\\Roaming\\Python\\Python312\\site-packages\\numpy\\ma\\core.py:2881: RuntimeWarning: invalid value encountered in cast\n",
      "  _data = np.array(data, dtype=dtype, copy=copy,\n"
     ]
    },
    {
     "name": "stdout",
     "output_type": "stream",
     "text": [
      "Mejores parámetros: {'reg_lambda': 1, 'reg_alpha': 20, 'objective': 'reg:squarederror', 'n_estimators': 500, 'max_depth': 4, 'learning_rate': 0.05, 'colsample_bytree': 1}\n",
      "Mejor RMSE en validación: 143.1101768313421\n"
     ]
    },
    {
     "name": "stderr",
     "output_type": "stream",
     "text": [
      "C:\\Users\\emili\\AppData\\Local\\Temp\\ipykernel_15064\\3659359380.py:73: SettingWithCopyWarning: \n",
      "A value is trying to be set on a copy of a slice from a DataFrame.\n",
      "Try using .loc[row_indexer,col_indexer] = value instead\n",
      "\n",
      "See the caveats in the documentation: https://pandas.pydata.org/pandas-docs/stable/user_guide/indexing.html#returning-a-view-versus-a-copy\n",
      "  data_bucket.loc[data_bucket.index,\"ps\"]=-1\n"
     ]
    },
    {
     "name": "stdout",
     "output_type": "stream",
     "text": [
      "Fitting 1 folds for each of 10 candidates, totalling 10 fits\n"
     ]
    },
    {
     "name": "stderr",
     "output_type": "stream",
     "text": [
      "C:\\Users\\emili\\AppData\\Roaming\\Python\\Python312\\site-packages\\numpy\\ma\\core.py:2881: RuntimeWarning: invalid value encountered in cast\n",
      "  _data = np.array(data, dtype=dtype, copy=copy,\n"
     ]
    },
    {
     "name": "stdout",
     "output_type": "stream",
     "text": [
      "Mejores parámetros: {'reg_lambda': 1, 'reg_alpha': 20, 'objective': 'reg:squarederror', 'n_estimators': 500, 'max_depth': 4, 'learning_rate': 0.05, 'colsample_bytree': 1}\n",
      "Mejor RMSE en validación: 114.99149426403415\n"
     ]
    },
    {
     "name": "stderr",
     "output_type": "stream",
     "text": [
      "C:\\Users\\emili\\AppData\\Local\\Temp\\ipykernel_15064\\3659359380.py:73: SettingWithCopyWarning: \n",
      "A value is trying to be set on a copy of a slice from a DataFrame.\n",
      "Try using .loc[row_indexer,col_indexer] = value instead\n",
      "\n",
      "See the caveats in the documentation: https://pandas.pydata.org/pandas-docs/stable/user_guide/indexing.html#returning-a-view-versus-a-copy\n",
      "  data_bucket.loc[data_bucket.index,\"ps\"]=-1\n"
     ]
    },
    {
     "name": "stdout",
     "output_type": "stream",
     "text": [
      "Fitting 1 folds for each of 10 candidates, totalling 10 fits\n",
      "Mejores parámetros: {'reg_lambda': 1, 'reg_alpha': 10, 'objective': 'reg:squarederror', 'n_estimators': 500, 'max_depth': 4, 'learning_rate': 0.1, 'colsample_bytree': 1}\n",
      "Mejor RMSE en validación: 781.8665884896717\n"
     ]
    },
    {
     "name": "stderr",
     "output_type": "stream",
     "text": [
      "C:\\Users\\emili\\AppData\\Local\\Temp\\ipykernel_15064\\3659359380.py:73: SettingWithCopyWarning: \n",
      "A value is trying to be set on a copy of a slice from a DataFrame.\n",
      "Try using .loc[row_indexer,col_indexer] = value instead\n",
      "\n",
      "See the caveats in the documentation: https://pandas.pydata.org/pandas-docs/stable/user_guide/indexing.html#returning-a-view-versus-a-copy\n",
      "  data_bucket.loc[data_bucket.index,\"ps\"]=-1\n"
     ]
    },
    {
     "name": "stdout",
     "output_type": "stream",
     "text": [
      "Fitting 1 folds for each of 10 candidates, totalling 10 fits\n",
      "Mejores parámetros: {'reg_lambda': 1, 'reg_alpha': 20, 'objective': 'reg:squarederror', 'n_estimators': 500, 'max_depth': 4, 'learning_rate': 0.05, 'colsample_bytree': 1}\n",
      "Mejor RMSE en validación: 85.90844585642239\n"
     ]
    },
    {
     "name": "stderr",
     "output_type": "stream",
     "text": [
      "C:\\Users\\emili\\AppData\\Local\\Temp\\ipykernel_15064\\3659359380.py:73: SettingWithCopyWarning: \n",
      "A value is trying to be set on a copy of a slice from a DataFrame.\n",
      "Try using .loc[row_indexer,col_indexer] = value instead\n",
      "\n",
      "See the caveats in the documentation: https://pandas.pydata.org/pandas-docs/stable/user_guide/indexing.html#returning-a-view-versus-a-copy\n",
      "  data_bucket.loc[data_bucket.index,\"ps\"]=-1\n"
     ]
    },
    {
     "name": "stdout",
     "output_type": "stream",
     "text": [
      "Fitting 1 folds for each of 10 candidates, totalling 10 fits\n",
      "Mejores parámetros: {'reg_lambda': 1, 'reg_alpha': 20, 'objective': 'reg:squarederror', 'n_estimators': 500, 'max_depth': 4, 'learning_rate': 0.05, 'colsample_bytree': 1}\n",
      "Mejor RMSE en validación: 32.465521488138\n"
     ]
    },
    {
     "name": "stderr",
     "output_type": "stream",
     "text": [
      "C:\\Users\\emili\\AppData\\Local\\Temp\\ipykernel_15064\\3659359380.py:73: SettingWithCopyWarning: \n",
      "A value is trying to be set on a copy of a slice from a DataFrame.\n",
      "Try using .loc[row_indexer,col_indexer] = value instead\n",
      "\n",
      "See the caveats in the documentation: https://pandas.pydata.org/pandas-docs/stable/user_guide/indexing.html#returning-a-view-versus-a-copy\n",
      "  data_bucket.loc[data_bucket.index,\"ps\"]=-1\n"
     ]
    },
    {
     "name": "stdout",
     "output_type": "stream",
     "text": [
      "Fitting 1 folds for each of 10 candidates, totalling 10 fits\n",
      "Mejores parámetros: {'reg_lambda': 1, 'reg_alpha': 20, 'objective': 'reg:squarederror', 'n_estimators': 500, 'max_depth': 4, 'learning_rate': 0.05, 'colsample_bytree': 1}\n",
      "Mejor RMSE en validación: 68.11026895479833\n"
     ]
    },
    {
     "name": "stderr",
     "output_type": "stream",
     "text": [
      "C:\\Users\\emili\\AppData\\Local\\Temp\\ipykernel_15064\\3659359380.py:73: SettingWithCopyWarning: \n",
      "A value is trying to be set on a copy of a slice from a DataFrame.\n",
      "Try using .loc[row_indexer,col_indexer] = value instead\n",
      "\n",
      "See the caveats in the documentation: https://pandas.pydata.org/pandas-docs/stable/user_guide/indexing.html#returning-a-view-versus-a-copy\n",
      "  data_bucket.loc[data_bucket.index,\"ps\"]=-1\n"
     ]
    },
    {
     "name": "stdout",
     "output_type": "stream",
     "text": [
      "Fitting 1 folds for each of 10 candidates, totalling 10 fits\n",
      "Mejores parámetros: {'reg_lambda': 1, 'reg_alpha': 10, 'objective': 'reg:squarederror', 'n_estimators': 500, 'max_depth': 4, 'learning_rate': 0.1, 'colsample_bytree': 1}\n",
      "Mejor RMSE en validación: 217.3305124426368\n"
     ]
    },
    {
     "name": "stderr",
     "output_type": "stream",
     "text": [
      "C:\\Users\\emili\\AppData\\Local\\Temp\\ipykernel_15064\\3659359380.py:73: SettingWithCopyWarning: \n",
      "A value is trying to be set on a copy of a slice from a DataFrame.\n",
      "Try using .loc[row_indexer,col_indexer] = value instead\n",
      "\n",
      "See the caveats in the documentation: https://pandas.pydata.org/pandas-docs/stable/user_guide/indexing.html#returning-a-view-versus-a-copy\n",
      "  data_bucket.loc[data_bucket.index,\"ps\"]=-1\n"
     ]
    },
    {
     "name": "stdout",
     "output_type": "stream",
     "text": [
      "Fitting 1 folds for each of 10 candidates, totalling 10 fits\n",
      "Mejores parámetros: {'reg_lambda': 1, 'reg_alpha': 10, 'objective': 'reg:squarederror', 'n_estimators': 350, 'max_depth': 6, 'learning_rate': 0.05, 'colsample_bytree': 1}\n",
      "Mejor RMSE en validación: 257.67028153133117\n"
     ]
    }
   ],
   "source": [
    "#randomized_search\n",
    "#model=XGBRegressor()\n",
    "separador=\"category\"\n",
    "bins=ventas[separador].unique()\n",
    "TARGET=[\"total_sales\"]\n",
    "FEATURES=[\n",
    " #  'mean_price', \n",
    "   # 'cluster', \n",
    "   # 'store_cod', \n",
    "    'subgroup_cod',\n",
    "   'total_sales_lag_1',\n",
    "    #'total_sales_lag_2', \n",
    "   # 'total_sales_lag_3', #'total_sales_lag_4',\n",
    "    #'total_sales_lag_5', 'total_sales_lag_6', 'total_sales_lag_7', \n",
    "    #'day', 'month', \n",
    "    'year',\n",
    "   'anual_sin_1', \n",
    "    'anual_cos_1',\n",
    "  'mensual_sin_1', \n",
    "  #  'mensual_cos_1',\n",
    " #  'anual_sin_2', \n",
    " #   'anual_cos_2',\n",
    "   'mensual_sin_2', \n",
    " #   'mensual_cos_2',\n",
    "    #\"std_price\",\n",
    "   # \"max_price\", \n",
    "   #\"min_price\",\n",
    "    'mean_price_rolling_mean_7d',\n",
    "   # 'mean_price_rolling_sum_7d',\n",
    "  #   'mean_price_rolling_mean_14d',\n",
    "    'mean_price_rolling_sum_14d', \n",
    "   # 'mean_price_rolling_mean_21d',#  'mean_price_rolling_sum_21d', 'mean_price_rolling_mean_28d',\n",
    "    #  'mean_price_rolling_sum_28d', \n",
    "    #'demand_rolling_mean_7d',\n",
    "    #  'demand_rolling_sum_7d', \n",
    "    #'demand_rolling_mean_14d',\n",
    "     'total_sales_rolling_mean_7d',\n",
    "       'total_sales_rolling_sum_7d', \n",
    "  #  'total_sales_rolling_mean_14d',\n",
    "   #    'total_sales_rolling_sum_14d',\n",
    "    #'std_discount', 'max_discount', \n",
    "    #'min_discount', \n",
    "    #'std_diff_factory',\n",
    "    #\"mean_discount\",\n",
    "    #\"mean_diff_factory\",\n",
    "   # 'max_diff_factory', \n",
    "   # 'min_diff_factory',\n",
    "    #\"size\"\n",
    "]\n",
    "evals_result={}\n",
    "\n",
    "# Diccionario para guardar resultados por bucket\n",
    "resultados_por_bucket_rnd = {}\n",
    "\n",
    "# Grilla de hiperparámetros\n",
    "param_grid = {\n",
    "    'n_estimators': [200,350,500],\n",
    "    'max_depth': [4, 6],\n",
    "    'learning_rate': [0.05, 0.1],\n",
    "    #'subsample': [0.8, 1],\n",
    "    'colsample_bytree': [0.8, 1],\n",
    "    'reg_alpha': [0, 5,10,20],\n",
    "    'reg_lambda': [1, 5],\n",
    "    \"objective\":[\"reg:squaredlogerror\",\"reg:squarederror\"]\n",
    "}\n",
    "\n",
    "for bucket in bins:\n",
    "    data_bucket = ventas[ventas[separador] == bucket]\n",
    "    \n",
    "    # Crear test: últimas 7 filas por grupo\n",
    "    test = data_bucket.groupby(['store_cod', 'subgroup_cod']).tail(7)\n",
    "    train = data_bucket.drop(test.index)\n",
    "    data_bucket.loc[data_bucket.index,\"ps\"]=-1\n",
    "    data_bucket.loc[test.index,\"ps\"]=0\n",
    "\n",
    "    X_test=test[FEATURES]\n",
    "    y_test=test[TARGET]\n",
    "\n",
    "    test_fold=data_bucket[\"ps\"]\n",
    "    # Creamos el split\n",
    "    ps = PredefinedSplit(test_fold)\n",
    "\n",
    "    fit_params = {\n",
    "    \"eval_set\": [(X_test, y_test)],\n",
    "    \"verbose\": False\n",
    "    }\n",
    "\n",
    "    #definimos el modelo\n",
    "    n_iter_search=10\n",
    "    reg = XGBRegressor(\n",
    "        early_stopping_rounds= 30,\n",
    "        eval_metric= \"rmse\",\n",
    "    #reducir el numero de columnas aumenta la importancia de std_price\n",
    "    )\n",
    "\n",
    "\n",
    "    rand_search = RandomizedSearchCV(\n",
    "    estimator=reg,\n",
    "    param_distributions=param_grid,\n",
    "    n_iter=n_iter_search,\n",
    "    scoring='neg_root_mean_squared_error',\n",
    "    cv=ps,  # tu PredefinedSplit definido antes\n",
    "    verbose=2,\n",
    "    n_jobs=-1,\n",
    "    random_state=42\n",
    ")\n",
    "    rand_search.fit(data_bucket[FEATURES], data_bucket[TARGET],**fit_params)\n",
    "\n",
    "    # Guardar resultados\n",
    "    resultados_por_bucket_rnd[bucket] = {\n",
    "        'best_params': rand_search.best_params_,\n",
    "        'best_score': -rand_search.best_score_  # lo paso a positivo\n",
    "    }\n",
    "    \n",
    "    print(\"Mejores parámetros:\", rand_search.best_params_)\n",
    "    print(\"Mejor RMSE en validación:\", -rand_search.best_score_)    \n",
    "\n"
   ]
  },
  {
   "cell_type": "code",
   "execution_count": null,
   "id": "32c486d8-db80-4813-8de3-7ca01ff65900",
   "metadata": {},
   "outputs": [],
   "source": [
    "#clothing Mejores parámetros: {'objective': 'reg:squarederror', 'n_estimators': 200, 'max_depth': 6, 'learning_rate': 0.1, 'colsample_bytree': 1}"
   ]
  },
  {
   "cell_type": "code",
   "execution_count": null,
   "id": "f497c414-068e-4e30-bd81-2e0aa5b3d13f",
   "metadata": {},
   "outputs": [],
   "source": [
    "from inline_sql import sql, sql_val\n",
    "\n",
    "taka=sql^\"\"\"SELECT DISTINCT category FROM ventas order by category\"\"\"\n",
    "taka[\"dict\"]=taka[\"category\"].map(resultados_por_bucket_rnd)\n",
    "taka[\"rmse\"]=0\n",
    "taka[\"params\"]={}\n",
    "for i in range(len(taka)):\n",
    "     fila=taka[\"dict\"].iloc[i]\n",
    "     taka[\"rmse\"].iloc[i]=fila[\"best_score\"]\n",
    "     taka[\"params\"].iloc[i]=fila[\"best_params\"]\n",
    "taka.to_csv(\"prueba_parametro_por_categoria.csv\")\n",
    "#resultados_por_bucket\n",
    "taka"
   ]
  },
  {
   "cell_type": "code",
   "execution_count": 18,
   "id": "9e53b8eb-e227-4d4d-ab1e-3c853fd94bfd",
   "metadata": {},
   "outputs": [
    {
     "data": {
      "text/html": [
       "<div>\n",
       "<style scoped>\n",
       "    .dataframe tbody tr th:only-of-type {\n",
       "        vertical-align: middle;\n",
       "    }\n",
       "\n",
       "    .dataframe tbody tr th {\n",
       "        vertical-align: top;\n",
       "    }\n",
       "\n",
       "    .dataframe thead th {\n",
       "        text-align: right;\n",
       "    }\n",
       "</style>\n",
       "<table border=\"1\" class=\"dataframe\">\n",
       "  <thead>\n",
       "    <tr style=\"text-align: right;\">\n",
       "      <th></th>\n",
       "      <th>category</th>\n",
       "      <th>rmse</th>\n",
       "    </tr>\n",
       "  </thead>\n",
       "  <tbody>\n",
       "    <tr>\n",
       "      <th>0</th>\n",
       "      <td>Beauty</td>\n",
       "      <td>114.991494</td>\n",
       "    </tr>\n",
       "    <tr>\n",
       "      <th>1</th>\n",
       "      <td>Books</td>\n",
       "      <td>68.110269</td>\n",
       "    </tr>\n",
       "    <tr>\n",
       "      <th>2</th>\n",
       "      <td>Clothing</td>\n",
       "      <td>143.110177</td>\n",
       "    </tr>\n",
       "    <tr>\n",
       "      <th>3</th>\n",
       "      <td>Electronics</td>\n",
       "      <td>781.866588</td>\n",
       "    </tr>\n",
       "    <tr>\n",
       "      <th>4</th>\n",
       "      <td>Groceries</td>\n",
       "      <td>32.465521</td>\n",
       "    </tr>\n",
       "    <tr>\n",
       "      <th>5</th>\n",
       "      <td>Home &amp; Kitchen</td>\n",
       "      <td>217.330512</td>\n",
       "    </tr>\n",
       "    <tr>\n",
       "      <th>6</th>\n",
       "      <td>Sports</td>\n",
       "      <td>257.670282</td>\n",
       "    </tr>\n",
       "    <tr>\n",
       "      <th>7</th>\n",
       "      <td>Toys</td>\n",
       "      <td>85.908446</td>\n",
       "    </tr>\n",
       "  </tbody>\n",
       "</table>\n",
       "</div>"
      ],
      "text/plain": [
       "         category        rmse\n",
       "0          Beauty  114.991494\n",
       "1           Books   68.110269\n",
       "2        Clothing  143.110177\n",
       "3     Electronics  781.866588\n",
       "4       Groceries   32.465521\n",
       "5  Home & Kitchen  217.330512\n",
       "6          Sports  257.670282\n",
       "7            Toys   85.908446"
      ]
     },
     "execution_count": 18,
     "metadata": {},
     "output_type": "execute_result"
    }
   ],
   "source": [
    "taka[[\"category\",\"rmse\"]]\n",
    "#Beauty pesimo\n",
    "#books ta weno\n",
    "#clothing same\n",
    "#Electronics\t\n",
    "#Groceries\t\n",
    "#Home & Kitchen\t\n",
    "#Sports\t\n",
    "#Toys"
   ]
  },
  {
   "cell_type": "code",
   "execution_count": 50,
   "id": "521f6d88-836c-430f-918c-68125dccb1d7",
   "metadata": {},
   "outputs": [
    {
     "name": "stderr",
     "output_type": "stream",
     "text": [
      "C:\\Users\\emili\\AppData\\Local\\Temp\\ipykernel_15064\\4026203582.py:60: SettingWithCopyWarning: \n",
      "A value is trying to be set on a copy of a slice from a DataFrame.\n",
      "Try using .loc[row_indexer,col_indexer] = value instead\n",
      "\n",
      "See the caveats in the documentation: https://pandas.pydata.org/pandas-docs/stable/user_guide/indexing.html#returning-a-view-versus-a-copy\n",
      "  data_bucket.loc[data_bucket.index,\"ps\"]=-1\n"
     ]
    },
    {
     "name": "stdout",
     "output_type": "stream",
     "text": [
      "[0]\tvalidation_0-rmse:0.69858\n",
      "[50]\tvalidation_0-rmse:0.67310\n",
      "[100]\tvalidation_0-rmse:0.66694\n",
      "[150]\tvalidation_0-rmse:0.66492\n",
      "[199]\tvalidation_0-rmse:0.66443\n",
      "Clothing\n",
      "                         feature  importance\n",
      "11  total_sales_rolling_mean_14d    0.261860\n",
      "1              total_sales_lag_1    0.258523\n",
      "2                           year    0.103687\n",
      "3                    anual_sin_1    0.085650\n",
      "12   total_sales_rolling_sum_14d    0.076523\n",
      "6                  mensual_sin_2    0.055819\n",
      "7     mean_price_rolling_mean_7d    0.039242\n",
      "4                    anual_cos_1    0.035814\n",
      "5                  mensual_sin_1    0.024498\n",
      "9    total_sales_rolling_mean_7d    0.022097\n",
      "0                   subgroup_cod    0.018932\n",
      "10    total_sales_rolling_sum_7d    0.012785\n",
      "8     mean_price_rolling_sum_14d    0.004569\n",
      "140.89666047427875\n"
     ]
    },
    {
     "name": "stderr",
     "output_type": "stream",
     "text": [
      "C:\\Users\\emili\\AppData\\Local\\Temp\\ipykernel_15064\\4026203582.py:60: SettingWithCopyWarning: \n",
      "A value is trying to be set on a copy of a slice from a DataFrame.\n",
      "Try using .loc[row_indexer,col_indexer] = value instead\n",
      "\n",
      "See the caveats in the documentation: https://pandas.pydata.org/pandas-docs/stable/user_guide/indexing.html#returning-a-view-versus-a-copy\n",
      "  data_bucket.loc[data_bucket.index,\"ps\"]=-1\n"
     ]
    },
    {
     "name": "stdout",
     "output_type": "stream",
     "text": [
      "[0]\tvalidation_0-rmse:0.62673\n",
      "[50]\tvalidation_0-rmse:0.61690\n",
      "[100]\tvalidation_0-rmse:0.61465\n",
      "[150]\tvalidation_0-rmse:0.61360\n",
      "[199]\tvalidation_0-rmse:0.61240\n",
      "Beauty\n",
      "                         feature  importance\n",
      "1              total_sales_lag_1    0.208632\n",
      "11  total_sales_rolling_mean_14d    0.195726\n",
      "10    total_sales_rolling_sum_7d    0.154750\n",
      "2                           year    0.077240\n",
      "3                    anual_sin_1    0.067484\n",
      "6                  mensual_sin_2    0.063144\n",
      "12   total_sales_rolling_sum_14d    0.061189\n",
      "9    total_sales_rolling_mean_7d    0.043166\n",
      "4                    anual_cos_1    0.039688\n",
      "5                  mensual_sin_1    0.038507\n",
      "7     mean_price_rolling_mean_7d    0.032309\n",
      "0                   subgroup_cod    0.013860\n",
      "8     mean_price_rolling_sum_14d    0.004305\n",
      "105.42789768248296\n"
     ]
    },
    {
     "name": "stderr",
     "output_type": "stream",
     "text": [
      "C:\\Users\\emili\\AppData\\Local\\Temp\\ipykernel_15064\\4026203582.py:60: SettingWithCopyWarning: \n",
      "A value is trying to be set on a copy of a slice from a DataFrame.\n",
      "Try using .loc[row_indexer,col_indexer] = value instead\n",
      "\n",
      "See the caveats in the documentation: https://pandas.pydata.org/pandas-docs/stable/user_guide/indexing.html#returning-a-view-versus-a-copy\n",
      "  data_bucket.loc[data_bucket.index,\"ps\"]=-1\n"
     ]
    },
    {
     "name": "stdout",
     "output_type": "stream",
     "text": [
      "[0]\tvalidation_0-rmse:0.65297\n",
      "[50]\tvalidation_0-rmse:0.63357\n",
      "[100]\tvalidation_0-rmse:0.63167\n",
      "[150]\tvalidation_0-rmse:0.63091\n",
      "[199]\tvalidation_0-rmse:0.62982\n",
      "Electronics\n",
      "                         feature  importance\n",
      "1              total_sales_lag_1    0.343021\n",
      "11  total_sales_rolling_mean_14d    0.174964\n",
      "3                    anual_sin_1    0.080208\n",
      "2                           year    0.080003\n",
      "6                  mensual_sin_2    0.059441\n",
      "7     mean_price_rolling_mean_7d    0.059389\n",
      "10    total_sales_rolling_sum_7d    0.051457\n",
      "9    total_sales_rolling_mean_7d    0.046347\n",
      "4                    anual_cos_1    0.039849\n",
      "12   total_sales_rolling_sum_14d    0.030497\n",
      "5                  mensual_sin_1    0.017511\n",
      "0                   subgroup_cod    0.014023\n",
      "8     mean_price_rolling_sum_14d    0.003290\n",
      "747.2282292562014\n"
     ]
    },
    {
     "name": "stderr",
     "output_type": "stream",
     "text": [
      "C:\\Users\\emili\\AppData\\Local\\Temp\\ipykernel_15064\\4026203582.py:60: SettingWithCopyWarning: \n",
      "A value is trying to be set on a copy of a slice from a DataFrame.\n",
      "Try using .loc[row_indexer,col_indexer] = value instead\n",
      "\n",
      "See the caveats in the documentation: https://pandas.pydata.org/pandas-docs/stable/user_guide/indexing.html#returning-a-view-versus-a-copy\n",
      "  data_bucket.loc[data_bucket.index,\"ps\"]=-1\n"
     ]
    },
    {
     "name": "stdout",
     "output_type": "stream",
     "text": [
      "[0]\tvalidation_0-rmse:0.61532\n",
      "[50]\tvalidation_0-rmse:0.61229\n",
      "[100]\tvalidation_0-rmse:0.60951\n",
      "[150]\tvalidation_0-rmse:0.60684\n",
      "[199]\tvalidation_0-rmse:0.60505\n",
      "Toys\n",
      "                         feature  importance\n",
      "1              total_sales_lag_1    0.314000\n",
      "11  total_sales_rolling_mean_14d    0.171188\n",
      "6                  mensual_sin_2    0.156515\n",
      "3                    anual_sin_1    0.087258\n",
      "2                           year    0.059520\n",
      "7     mean_price_rolling_mean_7d    0.049669\n",
      "12   total_sales_rolling_sum_14d    0.049245\n",
      "4                    anual_cos_1    0.037586\n",
      "9    total_sales_rolling_mean_7d    0.027140\n",
      "5                  mensual_sin_1    0.023886\n",
      "0                   subgroup_cod    0.011892\n",
      "10    total_sales_rolling_sum_7d    0.006737\n",
      "8     mean_price_rolling_sum_14d    0.005362\n",
      "81.40957161127118\n"
     ]
    },
    {
     "name": "stderr",
     "output_type": "stream",
     "text": [
      "C:\\Users\\emili\\AppData\\Local\\Temp\\ipykernel_15064\\4026203582.py:60: SettingWithCopyWarning: \n",
      "A value is trying to be set on a copy of a slice from a DataFrame.\n",
      "Try using .loc[row_indexer,col_indexer] = value instead\n",
      "\n",
      "See the caveats in the documentation: https://pandas.pydata.org/pandas-docs/stable/user_guide/indexing.html#returning-a-view-versus-a-copy\n",
      "  data_bucket.loc[data_bucket.index,\"ps\"]=-1\n"
     ]
    },
    {
     "name": "stdout",
     "output_type": "stream",
     "text": [
      "[0]\tvalidation_0-rmse:0.63758\n",
      "[50]\tvalidation_0-rmse:0.62409\n",
      "[100]\tvalidation_0-rmse:0.62084\n",
      "[150]\tvalidation_0-rmse:0.61895\n",
      "[199]\tvalidation_0-rmse:0.61738\n",
      "Groceries\n",
      "                         feature  importance\n",
      "11  total_sales_rolling_mean_14d    0.252818\n",
      "10    total_sales_rolling_sum_7d    0.105063\n",
      "1              total_sales_lag_1    0.104338\n",
      "3                    anual_sin_1    0.094874\n",
      "6                  mensual_sin_2    0.079248\n",
      "12   total_sales_rolling_sum_14d    0.075192\n",
      "5                  mensual_sin_1    0.065603\n",
      "9    total_sales_rolling_mean_7d    0.062307\n",
      "2                           year    0.061822\n",
      "4                    anual_cos_1    0.041696\n",
      "0                   subgroup_cod    0.032167\n",
      "7     mean_price_rolling_mean_7d    0.019464\n",
      "8     mean_price_rolling_sum_14d    0.005409\n",
      "31.083684398174498\n"
     ]
    },
    {
     "name": "stderr",
     "output_type": "stream",
     "text": [
      "C:\\Users\\emili\\AppData\\Local\\Temp\\ipykernel_15064\\4026203582.py:60: SettingWithCopyWarning: \n",
      "A value is trying to be set on a copy of a slice from a DataFrame.\n",
      "Try using .loc[row_indexer,col_indexer] = value instead\n",
      "\n",
      "See the caveats in the documentation: https://pandas.pydata.org/pandas-docs/stable/user_guide/indexing.html#returning-a-view-versus-a-copy\n",
      "  data_bucket.loc[data_bucket.index,\"ps\"]=-1\n"
     ]
    },
    {
     "name": "stdout",
     "output_type": "stream",
     "text": [
      "[0]\tvalidation_0-rmse:0.61785\n",
      "[50]\tvalidation_0-rmse:0.60923\n",
      "[100]\tvalidation_0-rmse:0.60593\n",
      "[150]\tvalidation_0-rmse:0.60281\n",
      "[199]\tvalidation_0-rmse:0.60020\n",
      "Books\n",
      "                         feature  importance\n",
      "1              total_sales_lag_1    0.293830\n",
      "11  total_sales_rolling_mean_14d    0.189312\n",
      "3                    anual_sin_1    0.111227\n",
      "6                  mensual_sin_2    0.093902\n",
      "2                           year    0.070419\n",
      "12   total_sales_rolling_sum_14d    0.060418\n",
      "7     mean_price_rolling_mean_7d    0.047343\n",
      "4                    anual_cos_1    0.040525\n",
      "9    total_sales_rolling_mean_7d    0.031235\n",
      "5                  mensual_sin_1    0.024718\n",
      "0                   subgroup_cod    0.019159\n",
      "10    total_sales_rolling_sum_7d    0.010315\n",
      "8     mean_price_rolling_sum_14d    0.007597\n",
      "70.1731399087308\n"
     ]
    },
    {
     "name": "stderr",
     "output_type": "stream",
     "text": [
      "C:\\Users\\emili\\AppData\\Local\\Temp\\ipykernel_15064\\4026203582.py:60: SettingWithCopyWarning: \n",
      "A value is trying to be set on a copy of a slice from a DataFrame.\n",
      "Try using .loc[row_indexer,col_indexer] = value instead\n",
      "\n",
      "See the caveats in the documentation: https://pandas.pydata.org/pandas-docs/stable/user_guide/indexing.html#returning-a-view-versus-a-copy\n",
      "  data_bucket.loc[data_bucket.index,\"ps\"]=-1\n"
     ]
    },
    {
     "name": "stdout",
     "output_type": "stream",
     "text": [
      "[0]\tvalidation_0-rmse:0.63221\n",
      "[50]\tvalidation_0-rmse:0.62576\n",
      "[100]\tvalidation_0-rmse:0.62400\n",
      "[150]\tvalidation_0-rmse:0.62302\n",
      "[199]\tvalidation_0-rmse:0.62203\n",
      "Home & Kitchen\n",
      "                         feature  importance\n",
      "1              total_sales_lag_1    0.260797\n",
      "10    total_sales_rolling_sum_7d    0.198558\n",
      "11  total_sales_rolling_mean_14d    0.100485\n",
      "12   total_sales_rolling_sum_14d    0.097813\n",
      "3                    anual_sin_1    0.070209\n",
      "6                  mensual_sin_2    0.062618\n",
      "4                    anual_cos_1    0.042671\n",
      "2                           year    0.042311\n",
      "7     mean_price_rolling_mean_7d    0.040748\n",
      "9    total_sales_rolling_mean_7d    0.038025\n",
      "5                  mensual_sin_1    0.027596\n",
      "0                   subgroup_cod    0.014166\n",
      "8     mean_price_rolling_sum_14d    0.004003\n",
      "217.47416481373014\n"
     ]
    },
    {
     "name": "stderr",
     "output_type": "stream",
     "text": [
      "C:\\Users\\emili\\AppData\\Local\\Temp\\ipykernel_15064\\4026203582.py:60: SettingWithCopyWarning: \n",
      "A value is trying to be set on a copy of a slice from a DataFrame.\n",
      "Try using .loc[row_indexer,col_indexer] = value instead\n",
      "\n",
      "See the caveats in the documentation: https://pandas.pydata.org/pandas-docs/stable/user_guide/indexing.html#returning-a-view-versus-a-copy\n",
      "  data_bucket.loc[data_bucket.index,\"ps\"]=-1\n"
     ]
    },
    {
     "name": "stdout",
     "output_type": "stream",
     "text": [
      "[0]\tvalidation_0-rmse:0.61795\n",
      "[50]\tvalidation_0-rmse:0.61651\n",
      "[100]\tvalidation_0-rmse:0.61500\n",
      "[150]\tvalidation_0-rmse:0.61184\n",
      "[199]\tvalidation_0-rmse:0.61081\n",
      "Sports\n",
      "                         feature  importance\n",
      "1              total_sales_lag_1    0.345226\n",
      "11  total_sales_rolling_mean_14d    0.142283\n",
      "6                  mensual_sin_2    0.109159\n",
      "2                           year    0.099978\n",
      "3                    anual_sin_1    0.085068\n",
      "7     mean_price_rolling_mean_7d    0.051068\n",
      "9    total_sales_rolling_mean_7d    0.043004\n",
      "4                    anual_cos_1    0.036164\n",
      "12   total_sales_rolling_sum_14d    0.031183\n",
      "5                  mensual_sin_1    0.030592\n",
      "0                   subgroup_cod    0.013047\n",
      "10    total_sales_rolling_sum_7d    0.008464\n",
      "8     mean_price_rolling_sum_14d    0.004764\n",
      "241.82119567972367\n"
     ]
    }
   ],
   "source": [
    "import numpy as np\n",
    "from sklearn.metrics import mean_squared_error\n",
    "\n",
    "separador=\"category\"\n",
    "bins=ventas[separador].unique()\n",
    "TARGET=[\"total_sales\"]\n",
    "FEATURES=[\n",
    " #  'mean_price', \n",
    "   # 'cluster', \n",
    "   # 'store_cod', \n",
    "    'subgroup_cod',\n",
    "   'total_sales_lag_1',\n",
    "    #'total_sales_lag_2', \n",
    "   # 'total_sales_lag_3', #'total_sales_lag_4',\n",
    "    #'total_sales_lag_5', 'total_sales_lag_6', 'total_sales_lag_7', \n",
    "    #'day', 'month', \n",
    "    'year',\n",
    "   'anual_sin_1', \n",
    "    'anual_cos_1',\n",
    "  'mensual_sin_1', \n",
    "  #  'mensual_cos_1',\n",
    " #  'anual_sin_2', \n",
    " #   'anual_cos_2',\n",
    "   'mensual_sin_2', \n",
    " #   'mensual_cos_2',\n",
    "    #\"std_price\",\n",
    "   # \"max_price\", \n",
    "   #\"min_price\",\n",
    "    'mean_price_rolling_mean_7d',\n",
    "   # 'mean_price_rolling_sum_7d',\n",
    "  #   'mean_price_rolling_mean_14d',\n",
    "    'mean_price_rolling_sum_14d', \n",
    "    #'demand_rolling_mean_7d',\n",
    "    #  'demand_rolling_sum_7d', \n",
    "    #'demand_rolling_mean_14d',\n",
    "     'total_sales_rolling_mean_7d',\n",
    "       'total_sales_rolling_sum_7d', \n",
    "    'total_sales_rolling_mean_14d',\n",
    "       'total_sales_rolling_sum_14d',\n",
    "    #'std_discount', 'max_discount', \n",
    "    #'min_discount', \n",
    "    #'std_diff_factory',\n",
    "    #\"mean_discount\",\n",
    "    #\"mean_diff_factory\",\n",
    "   # 'max_diff_factory', \n",
    "   # 'min_diff_factory',\n",
    "    #\"size\"\n",
    "]\n",
    "evals_result={}\n",
    "\n",
    "# Diccionario para guardar resultados por bucket\n",
    "resultados_por_bucket_rnd = {}\n",
    "\n",
    "for bucket in bins:\n",
    "    data_bucket = ventas[ventas[separador] == bucket]\n",
    "    \n",
    "    # Crear test: últimas 7 filas por grupo\n",
    "    test = data_bucket.groupby(['store_cod', 'subgroup_cod']).tail(1)\n",
    "    train = data_bucket.drop(test.index)\n",
    "    data_bucket.loc[data_bucket.index,\"ps\"]=-1\n",
    "    data_bucket.loc[test.index,\"ps\"]=0\n",
    "    \n",
    "    X_train=data_bucket[FEATURES]\n",
    "    y_train=np.log1p(data_bucket[TARGET])\n",
    "    \n",
    "\n",
    "    X_test=test[FEATURES]\n",
    "    y_test=np.log1p(test[TARGET])\n",
    "\n",
    "    # Creamos el split\n",
    "    ps = PredefinedSplit(test_fold)\n",
    "    def rmsle_obj(y_pred, y_true):\n",
    "        y_true = y_true.get_label()\n",
    "        grad = (np.log1p(y_pred) - np.log1p(y_true)) / (y_pred + 1)\n",
    "        hess = (1 - (np.log1p(y_pred) - np.log1p(y_true))) / ((y_pred + 1) ** 2)\n",
    "        return grad, hess\n",
    "\n",
    "    #definimos el modelo\n",
    "   \n",
    "    reg = XGBRegressor(\n",
    "     n_estimators=200,           # alto para usar early stopping\n",
    "    learning_rate=0.05,          # más bajo para no memorizar rápido\n",
    "    max_depth=6,                 # menos profundidad => menos overfit\n",
    "    #min_child_weight=5,          # evita que splits se hagan con poca data\n",
    "    #subsample=0.8,                # usa solo parte de las filas en cada árbol\n",
    "    colsample_bytree=0.8,         # usa solo parte de las columnas en cada árbol\n",
    "    reg_lambda=20,                 # L2 regularization\n",
    "    reg_alpha=0,                  # L1 regularization\n",
    "    random_state=42,\n",
    "    n_jobs=-1,\n",
    "    early_stopping_rounds=50,\n",
    "    objective=rmsle_obj,\n",
    "    eval_metric=\"rmse\"\n",
    "    )\n",
    "    reg.fit(\n",
    "    X_train, y_train,\n",
    "    eval_set=[(X_test, y_test)],\n",
    "    verbose=50,\n",
    "    )\n",
    "    print(bucket)\n",
    "    print(pd.DataFrame({\n",
    "    \"feature\": FEATURES,\n",
    "    \"importance\": reg.feature_importances_\n",
    "}).sort_values(\"importance\", ascending=False))\n",
    "    rmse_original = np.sqrt(mean_squared_error(np.expm1(y_test),np.expm1(reg.predict(X_test))))\n",
    "    print(rmse_original)"
   ]
  },
  {
   "cell_type": "code",
   "execution_count": 25,
   "id": "caa6e049-4468-4434-87c3-6560a786c3b4",
   "metadata": {},
   "outputs": [
    {
     "data": {
      "text/plain": [
       "array(['Clothing', 'Beauty', 'Electronics', 'Toys', 'Groceries', 'Books',\n",
       "       'Home & Kitchen', 'Sports'], dtype=object)"
      ]
     },
     "execution_count": 25,
     "metadata": {},
     "output_type": "execute_result"
    }
   ],
   "source": [
    "bins=ventas[separador].unique()\n",
    "bins"
   ]
  },
  {
   "cell_type": "code",
   "execution_count": 35,
   "id": "8ad09cf0-94f8-47f5-a263-66271b9b1823",
   "metadata": {},
   "outputs": [
    {
     "data": {
      "text/plain": [
       "count    609720.000000\n",
       "mean       1411.419677\n",
       "std        1008.757199\n",
       "min           0.000000\n",
       "25%         723.097500\n",
       "50%        1169.335000\n",
       "75%        1805.082500\n",
       "max       17802.700000\n",
       "Name: total_sales, dtype: float64"
      ]
     },
     "execution_count": 35,
     "metadata": {},
     "output_type": "execute_result"
    }
   ],
   "source": [
    "ventas[ventas[\"category\"]==\"Electronics\"][\"total_sales\"].describe()"
   ]
  },
  {
   "cell_type": "code",
   "execution_count": 42,
   "id": "ae6317de-1b09-4bef-813a-ea8c910499f8",
   "metadata": {},
   "outputs": [
    {
     "name": "stdout",
     "output_type": "stream",
     "text": [
      "Clothing\n",
      "   percentil     valor      max\n",
      "0         25  130.6500  3174.04\n",
      "1         50  213.9800  3174.04\n",
      "2         75  333.7400  3174.04\n",
      "3         90  490.6800  3174.04\n",
      "4         95  607.6655  3174.04\n",
      "5         98  764.4600  3174.04\n",
      "\n",
      "Beauty\n",
      "   percentil    valor      max\n",
      "0         25   99.870  3397.14\n",
      "1         50  160.900  3397.14\n",
      "2         75  247.660  3397.14\n",
      "3         90  366.570  3397.14\n",
      "4         95  464.695  3397.14\n",
      "5         98  610.606  3397.14\n",
      "\n",
      "Electronics\n",
      "   percentil      valor      max\n",
      "0         25   723.0975  17802.7\n",
      "1         50  1169.3350  17802.7\n",
      "2         75  1805.0825  17802.7\n",
      "3         90  2639.8010  17802.7\n",
      "4         95  3295.0505  17802.7\n",
      "5         98  4214.7462  17802.7\n",
      "\n",
      "Toys\n",
      "   percentil    valor      max\n",
      "0         25   76.830  1573.27\n",
      "1         50  121.470  1573.27\n",
      "2         75  182.050  1573.27\n",
      "3         90  259.050  1573.27\n",
      "4         95  318.230  1573.27\n",
      "5         98  397.025  1573.27\n",
      "\n",
      "Groceries\n",
      "   percentil   valor     max\n",
      "0         25   30.40  947.49\n",
      "1         50   49.08  947.49\n",
      "2         75   78.40  947.49\n",
      "3         90  115.43  947.49\n",
      "4         95  142.92  947.49\n",
      "5         98  180.83  947.49\n",
      "\n",
      "Books\n",
      "   percentil     valor      max\n",
      "0         25   66.2200  1175.58\n",
      "1         50  104.5200  1175.58\n",
      "2         75  158.5000  1175.58\n",
      "3         90  228.3300  1175.58\n",
      "4         95  280.9175  1175.58\n",
      "5         98  349.6300  1175.58\n",
      "\n",
      "Home & Kitchen\n",
      "   percentil      valor      max\n",
      "0         25   212.9500  6915.86\n",
      "1         50   338.8850  6915.86\n",
      "2         75   515.3400  6915.86\n",
      "3         90   752.9960  6915.86\n",
      "4         95   947.5415  6915.86\n",
      "5         98  1237.4658  6915.86\n",
      "\n",
      "Sports\n",
      "   percentil      valor      max\n",
      "0         25   219.5825  4368.48\n",
      "1         50   356.1200  4368.48\n",
      "2         75   536.3500  4368.48\n",
      "3         90   766.9400  4368.48\n",
      "4         95   945.3600  4368.48\n",
      "5         98  1189.9334  4368.48\n",
      "\n"
     ]
    }
   ],
   "source": [
    "import pandas as pd\n",
    "import numpy as np\n",
    "\n",
    "\n",
    "for bucket in bins:\n",
    "    data_bucket = ventas[ventas[separador] == bucket]\n",
    "    # Ejemplo de serie\n",
    "    s = data_bucket[\"total_sales\"]\n",
    "    # Calcular percentiles específicos\n",
    "    percentiles = [25,50,75,90, 95, 98]\n",
    "    valores = np.percentile(s, percentiles)\n",
    "    print(bucket)\n",
    "    # Crear un DataFrame con percentiles y sus índices originales\n",
    "    resultado = pd.DataFrame({\n",
    "        'percentil': percentiles,\n",
    "        'valor': valores,\n",
    "        'max':s.max()\n",
    "        #'indice': [s.index[s == v][0] for v in valores]\n",
    "    })\n",
    "    \n",
    "    print(resultado)\n",
    "    print()\n",
    "        "
   ]
  },
  {
   "cell_type": "code",
   "execution_count": 44,
   "id": "adde16c2-b917-4a13-8e9c-75d8a1016b03",
   "metadata": {},
   "outputs": [
    {
     "name": "stdout",
     "output_type": "stream",
     "text": [
      "Clothing\n",
      "   percentil     valor       max\n",
      "0         25  4.880147  8.063076\n",
      "1         50  5.370545  8.063076\n",
      "2         75  5.813354  8.063076\n",
      "3         90  6.197828  8.063076\n",
      "4         95  6.411269  8.063076\n",
      "5         98  6.640477  8.063076\n",
      "\n",
      "Beauty\n",
      "   percentil     valor       max\n",
      "0         25  4.613833  8.130984\n",
      "1         50  5.086979  8.130984\n",
      "2         75  5.516087  8.130984\n",
      "3         90  5.906914  8.130984\n",
      "4         95  6.143531  8.130984\n",
      "5         98  6.416088  8.130984\n",
      "\n",
      "Electronics\n",
      "   percentil     valor       max\n",
      "0         25  6.584926  9.787162\n",
      "1         50  7.065045  9.787162\n",
      "2         75  7.498915  9.787162\n",
      "3         90  7.878838  9.787162\n",
      "4         95  8.100480  9.787162\n",
      "5         98  8.346582  9.787162\n",
      "\n",
      "Toys\n",
      "   percentil     valor       max\n",
      "0         25  4.354527  7.361547\n",
      "1         50  4.807866  7.361547\n",
      "2         75  5.209759  7.361547\n",
      "3         90  5.560874  7.361547\n",
      "4         95  5.765912  7.361547\n",
      "5         98  5.986515  7.361547\n",
      "\n",
      "Groceries\n",
      "   percentil     valor       max\n",
      "0         25  3.446808  6.854871\n",
      "1         50  3.913622  6.854871\n",
      "2         75  4.374498  6.854871\n",
      "3         90  4.757290  6.854871\n",
      "4         95  4.969258  6.854871\n",
      "5         98  5.203072  6.854871\n",
      "\n",
      "Books\n",
      "   percentil     valor       max\n",
      "0         25  4.207971  7.070367\n",
      "1         50  4.658901  7.070367\n",
      "2         75  5.072044  7.070367\n",
      "3         90  5.435162  7.070367\n",
      "4         95  5.641614  7.070367\n",
      "5         98  5.859732  7.070367\n",
      "\n",
      "Home & Kitchen\n",
      "   percentil     valor       max\n",
      "0         25  5.365742  8.841717\n",
      "1         50  5.828607  8.841717\n",
      "2         75  6.246765  8.841717\n",
      "3         90  6.625387  8.841717\n",
      "4         95  6.854926  8.841717\n",
      "5         98  7.121629  8.841717\n",
      "\n",
      "Sports\n",
      "   percentil     valor       max\n",
      "0         25  5.396272  8.382399\n",
      "1         50  5.878072  8.382399\n",
      "2         75  6.286650  8.382399\n",
      "3         90  6.643712  8.382399\n",
      "4         95  6.852623  8.382399\n",
      "5         98  7.082493  8.382399\n",
      "\n"
     ]
    }
   ],
   "source": [
    "import pandas as pd\n",
    "import numpy as np\n",
    "\n",
    "\n",
    "for bucket in bins:\n",
    "    data_bucket = ventas[ventas[separador] == bucket]\n",
    "    # Ejemplo de serie\n",
    "    s = np.log1p(data_bucket[\"total_sales\"])\n",
    "    # Calcular percentiles específicos\n",
    "    percentiles = [25,50,75,90, 95, 98]\n",
    "    valores = np.percentile(s, percentiles)\n",
    "    print(bucket)\n",
    "    # Crear un DataFrame con percentiles y sus índices originales\n",
    "    resultado = pd.DataFrame({\n",
    "        'percentil': percentiles,\n",
    "        'valor': valores,\n",
    "        'max':s.max()\n",
    "        #'indice': [s.index[s == v][0] for v in valores]\n",
    "    })\n",
    "    \n",
    "    print(resultado)\n",
    "    print()\n",
    "        "
   ]
  },
  {
   "cell_type": "code",
   "execution_count": 56,
   "id": "e07833a5-2fc3-473a-a1ae-53fb362b6d6c",
   "metadata": {},
   "outputs": [
    {
     "name": "stdout",
     "output_type": "stream",
     "text": [
      "\n",
      "=== Bucket: Clothing ===\n"
     ]
    },
    {
     "ename": "ZeroDivisionError",
     "evalue": "division by zero",
     "output_type": "error",
     "traceback": [
      "\u001b[1;31m---------------------------------------------------------------------------\u001b[0m",
      "\u001b[1;31mZeroDivisionError\u001b[0m                         Traceback (most recent call last)",
      "Cell \u001b[1;32mIn[56], line 39\u001b[0m\n\u001b[0;32m     36\u001b[0m \u001b[38;5;66;03m# Variable binaria para clasificación\u001b[39;00m\n\u001b[0;32m     37\u001b[0m y_train_cls \u001b[38;5;241m=\u001b[39m (y_train \u001b[38;5;241m>\u001b[39m umbral_alto)\u001b[38;5;241m.\u001b[39mastype(\u001b[38;5;28mint\u001b[39m)\n\u001b[1;32m---> 39\u001b[0m scale \u001b[38;5;241m=\u001b[39m \u001b[38;5;28;43mlen\u001b[39;49m\u001b[43m(\u001b[49m\u001b[43my_train\u001b[49m\u001b[43m[\u001b[49m\u001b[43my_train\u001b[49m\u001b[43m \u001b[49m\u001b[38;5;241;43m==\u001b[39;49m\u001b[43m \u001b[49m\u001b[38;5;241;43m0\u001b[39;49m\u001b[43m]\u001b[49m\u001b[43m)\u001b[49m\u001b[43m \u001b[49m\u001b[38;5;241;43m/\u001b[39;49m\u001b[43m \u001b[49m\u001b[38;5;28;43mlen\u001b[39;49m\u001b[43m(\u001b[49m\u001b[43my_train\u001b[49m\u001b[43m[\u001b[49m\u001b[43my_train\u001b[49m\u001b[43m \u001b[49m\u001b[38;5;241;43m==\u001b[39;49m\u001b[43m \u001b[49m\u001b[38;5;241;43m1\u001b[39;49m\u001b[43m]\u001b[49m\u001b[43m)\u001b[49m\n\u001b[0;32m     41\u001b[0m clf \u001b[38;5;241m=\u001b[39m XGBClassifier(\n\u001b[0;32m     42\u001b[0m     n_estimators\u001b[38;5;241m=\u001b[39m\u001b[38;5;241m500\u001b[39m,\n\u001b[0;32m     43\u001b[0m     learning_rate\u001b[38;5;241m=\u001b[39m\u001b[38;5;241m0.05\u001b[39m,\n\u001b[1;32m   (...)\u001b[0m\n\u001b[0;32m     49\u001b[0m     random_state\u001b[38;5;241m=\u001b[39m\u001b[38;5;241m42\u001b[39m\n\u001b[0;32m     50\u001b[0m )\n\u001b[0;32m     51\u001b[0m clf\u001b[38;5;241m.\u001b[39mfit(X_train, y_train_cls)\n",
      "\u001b[1;31mZeroDivisionError\u001b[0m: division by zero"
     ]
    }
   ],
   "source": [
    "import numpy as np\n",
    "import pandas as pd\n",
    "from sklearn.model_selection import PredefinedSplit\n",
    "from sklearn.metrics import mean_squared_error\n",
    "from xgboost import XGBRegressor, XGBClassifier\n",
    "\n",
    "separador = \"category\"\n",
    "bins = ventas[separador].unique()\n",
    "TARGET = [\"total_sales\"]\n",
    "FEATURES = [\n",
    "    'subgroup_cod', 'total_sales_lag_1', 'year',\n",
    "    'anual_sin_1', 'anual_cos_1', 'mensual_sin_1', 'mensual_sin_2',\n",
    "    'mean_price_rolling_mean_7d', 'mean_price_rolling_sum_14d',\n",
    "    'total_sales_rolling_mean_7d', 'total_sales_rolling_sum_7d',\n",
    "    'total_sales_rolling_mean_14d', 'total_sales_rolling_sum_14d'\n",
    "]\n",
    "\n",
    "for bucket in bins:\n",
    "    print(f\"\\n=== Bucket: {bucket} ===\")\n",
    "    \n",
    "    data_bucket = ventas[ventas[separador] == bucket].copy()\n",
    "    \n",
    "    # Crear test: última fila por grupo\n",
    "    test = data_bucket.groupby(['store_cod', 'subgroup_cod']).tail(1)\n",
    "    train = data_bucket.drop(test.index)\n",
    "    \n",
    "    X_train = train[FEATURES]\n",
    "    y_train = train[TARGET[0]]\n",
    "    \n",
    "    X_test = test[FEATURES]\n",
    "    y_test = test[TARGET[0]]\n",
    "    \n",
    "    # 1️⃣ Calcular umbral alto usando solo el train\n",
    "    umbral_alto = np.percentile(y_train, 95)\n",
    "    \n",
    "    # Variable binaria para clasificación\n",
    "    y_train_cls = (y_train > umbral_alto).astype(int)\n",
    "    \n",
    "    scale = len(y_train[y_train == 0]) / len(y_train[y_train == 1])\n",
    "\n",
    "    clf = XGBClassifier(\n",
    "        n_estimators=500,\n",
    "        learning_rate=0.05,\n",
    "        max_depth=5,\n",
    "        colsample_bytree=0.8,\n",
    "        subsample=0.8,\n",
    "        scale_pos_weight=scale,\n",
    "        eval_metric=\"logloss\",\n",
    "        random_state=42\n",
    "    )\n",
    "    clf.fit(X_train, y_train_cls)\n",
    "    \n",
    "    # 3️⃣ Modelos de regresión\n",
    "    # Bajos / medios\n",
    "    mask_medios = y_train_cls == 0\n",
    "    reg_med = XGBRegressor(\n",
    "        n_estimators=500,\n",
    "        learning_rate=0.05,\n",
    "        max_depth=6,\n",
    "        colsample_bytree=0.8,\n",
    "        reg_lambda=10,\n",
    "        reg_alpha=0,\n",
    "        random_state=42,\n",
    "        n_jobs=-1\n",
    "    )\n",
    "    reg_med.fit(X_train[mask_medios], np.log1p(y_train[mask_medios]))\n",
    "    \n",
    "    # Altos\n",
    "    mask_altos = y_train_cls == 1\n",
    "    reg_alt = XGBRegressor(\n",
    "        n_estimators=500,\n",
    "        learning_rate=0.05,\n",
    "        max_depth=6,\n",
    "        colsample_bytree=0.8,\n",
    "        reg_lambda=10,\n",
    "        reg_alpha=0,\n",
    "        random_state=42,\n",
    "        n_jobs=-1\n",
    "    )\n",
    "    reg_alt.fit(X_train[mask_altos], np.log1p(y_train[mask_altos]))\n",
    "    \n",
    "    # 4️⃣ Predicción combinada\n",
    "    pred_cls = clf.predict(X_test)  # 0 = medio, 1 = alto\n",
    "    pred_final = np.zeros(len(X_test))\n",
    "    \n",
    "    idx_med = pred_cls == 0\n",
    "    idx_alt = pred_cls == 1\n",
    "    \n",
    "    if idx_med.any():\n",
    "        pred_final[idx_med] = np.expm1(reg_med.predict(X_test[idx_med]))\n",
    "    if idx_alt.any():\n",
    "        pred_final[idx_alt] = np.expm1(reg_alt.predict(X_test[idx_alt]))\n",
    "    \n",
    "    # 5️⃣ Métrica\n",
    "    rmse = np.sqrt(mean_squared_error(y_test, pred_final))\n",
    "    print(f\"Umbral alto (p95): {umbral_alto:.2f}\")\n",
    "    print(f\"RMSE bucket {bucket}: {rmse:.4f}\")"
   ]
  },
  {
   "cell_type": "code",
   "execution_count": 55,
   "id": "2f097613-1381-4cc0-a3e0-fefc1c3a7456",
   "metadata": {},
   "outputs": [
    {
     "name": "stdout",
     "output_type": "stream",
     "text": [
      "[[1182    0]\n",
      " [  34    0]]\n"
     ]
    }
   ],
   "source": [
    "from sklearn.metrics import confusion_matrix\n",
    "pred_cls = clf.predict(X_test)\n",
    "y_test_cls = (y_test > umbral_alto).astype(int)\n",
    "# Matriz de confusión\n",
    "cm = confusion_matrix(y_test_cls, pred_cls)\n",
    "print(cm)"
   ]
  }
 ],
 "metadata": {
  "kernelspec": {
   "display_name": "Python 3 (ipykernel)",
   "language": "python",
   "name": "python3"
  },
  "language_info": {
   "codemirror_mode": {
    "name": "ipython",
    "version": 3
   },
   "file_extension": ".py",
   "mimetype": "text/x-python",
   "name": "python",
   "nbconvert_exporter": "python",
   "pygments_lexer": "ipython3",
   "version": "3.12.4"
  }
 },
 "nbformat": 4,
 "nbformat_minor": 5
}
