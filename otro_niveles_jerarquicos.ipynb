{
 "cells": [
  {
   "cell_type": "code",
   "execution_count": 48,
   "id": "b7979c74-5f5b-4ef3-b147-2359ff458cad",
   "metadata": {},
   "outputs": [],
   "source": [
    "from DataLoader import importar_ventas,leer_csv,agregar_fourier,preparar_test\n",
    "from DataLoader import generar_rolling_features,crear_archivo_kaggle\n",
    "import numpy as np\n",
    "from sklearn.model_selection import GridSearchCV,PredefinedSplit, RandomizedSearchCV\n",
    "from xgboost import XGBRegressor\n",
    "import pandas as pd"
   ]
  },
  {
   "cell_type": "code",
   "execution_count": null,
   "id": "a38b9717-defb-4578-84b6-7203a29223d6",
   "metadata": {},
   "outputs": [],
   "source": [
    "def predecir(separador):"
   ]
  },
  {
   "cell_type": "code",
   "execution_count": 60,
   "id": "9076bf70-ff88-46cc-9c0d-dd4964284bd8",
   "metadata": {},
   "outputs": [],
   "source": [
    "ventas=importar_ventas()\n",
    "ventas\n",
    "agregar_fourier(ventas,2)\n",
    "ventas=generar_rolling_features(ventas,\"demand\",[1,4],[\"subgroup_cod\",\"store_cod\"])"
   ]
  },
  {
   "cell_type": "code",
   "execution_count": 5,
   "id": "37beff36-0e53-45a3-91d4-585b1b6c8c74",
   "metadata": {},
   "outputs": [
    {
     "name": "stdout",
     "output_type": "stream",
     "text": [
      "23\n",
      "188989\n",
      "208328\n",
      "212403\n",
      "323148\n",
      "359052\n",
      "258450\n",
      "184253\n",
      "204801\n",
      "184564\n",
      "174080\n",
      "102800\n",
      "173558\n",
      "210201\n",
      "209727\n",
      "366582\n",
      "189105\n",
      "194389\n",
      "223177\n",
      "344324\n",
      "271314\n",
      "279056\n",
      "161916\n",
      "182576\n"
     ]
    }
   ],
   "source": [
    "print(len(ventas[\"group\"].unique()))\n",
    "for group in ventas[\"group\"].unique():\n",
    "    print(len(ventas[ventas[\"group\"]==group])) #tambien podria ser"
   ]
  },
  {
   "cell_type": "code",
   "execution_count": 61,
   "id": "63f5ab1f-2310-452b-8ddd-0bf7d0cdfc69",
   "metadata": {},
   "outputs": [
    {
     "name": "stderr",
     "output_type": "stream",
     "text": [
      "C:\\Users\\emili\\AppData\\Local\\Temp\\ipykernel_11564\\1824466024.py:47: SettingWithCopyWarning: \n",
      "A value is trying to be set on a copy of a slice from a DataFrame.\n",
      "Try using .loc[row_indexer,col_indexer] = value instead\n",
      "\n",
      "See the caveats in the documentation: https://pandas.pydata.org/pandas-docs/stable/user_guide/indexing.html#returning-a-view-versus-a-copy\n",
      "  data_bucket.loc[data_bucket.index,\"ps\"]=-1\n"
     ]
    },
    {
     "name": "stdout",
     "output_type": "stream",
     "text": [
      "Fitting 1 folds for each of 48 candidates, totalling 48 fits\n",
      "Mejores parámetros: {'colsample_bytree': 1, 'learning_rate': 0.05, 'max_depth': 4, 'n_estimators': 500, 'objective': 'reg:squarederror'}\n",
      "Mejor RMSE en validación: 2.311519698926529\n"
     ]
    },
    {
     "name": "stderr",
     "output_type": "stream",
     "text": [
      "C:\\Users\\emili\\AppData\\Local\\Temp\\ipykernel_11564\\1824466024.py:47: SettingWithCopyWarning: \n",
      "A value is trying to be set on a copy of a slice from a DataFrame.\n",
      "Try using .loc[row_indexer,col_indexer] = value instead\n",
      "\n",
      "See the caveats in the documentation: https://pandas.pydata.org/pandas-docs/stable/user_guide/indexing.html#returning-a-view-versus-a-copy\n",
      "  data_bucket.loc[data_bucket.index,\"ps\"]=-1\n"
     ]
    },
    {
     "name": "stdout",
     "output_type": "stream",
     "text": [
      "Fitting 1 folds for each of 48 candidates, totalling 48 fits\n",
      "Mejores parámetros: {'colsample_bytree': 0.8, 'learning_rate': 0.05, 'max_depth': 6, 'n_estimators': 200, 'objective': 'reg:squarederror'}\n",
      "Mejor RMSE en validación: 2.0809230770998046\n"
     ]
    },
    {
     "name": "stderr",
     "output_type": "stream",
     "text": [
      "C:\\Users\\emili\\AppData\\Local\\Temp\\ipykernel_11564\\1824466024.py:47: SettingWithCopyWarning: \n",
      "A value is trying to be set on a copy of a slice from a DataFrame.\n",
      "Try using .loc[row_indexer,col_indexer] = value instead\n",
      "\n",
      "See the caveats in the documentation: https://pandas.pydata.org/pandas-docs/stable/user_guide/indexing.html#returning-a-view-versus-a-copy\n",
      "  data_bucket.loc[data_bucket.index,\"ps\"]=-1\n"
     ]
    },
    {
     "name": "stdout",
     "output_type": "stream",
     "text": [
      "Fitting 1 folds for each of 48 candidates, totalling 48 fits\n",
      "Mejores parámetros: {'colsample_bytree': 1, 'learning_rate': 0.05, 'max_depth': 6, 'n_estimators': 500, 'objective': 'reg:squarederror'}\n",
      "Mejor RMSE en validación: 2.0183582906692012\n"
     ]
    },
    {
     "name": "stderr",
     "output_type": "stream",
     "text": [
      "C:\\Users\\emili\\AppData\\Local\\Temp\\ipykernel_11564\\1824466024.py:47: SettingWithCopyWarning: \n",
      "A value is trying to be set on a copy of a slice from a DataFrame.\n",
      "Try using .loc[row_indexer,col_indexer] = value instead\n",
      "\n",
      "See the caveats in the documentation: https://pandas.pydata.org/pandas-docs/stable/user_guide/indexing.html#returning-a-view-versus-a-copy\n",
      "  data_bucket.loc[data_bucket.index,\"ps\"]=-1\n"
     ]
    },
    {
     "name": "stdout",
     "output_type": "stream",
     "text": [
      "Fitting 1 folds for each of 48 candidates, totalling 48 fits\n",
      "Mejores parámetros: {'colsample_bytree': 1, 'learning_rate': 0.1, 'max_depth': 4, 'n_estimators': 200, 'objective': 'reg:squarederror'}\n",
      "Mejor RMSE en validación: 2.4648140231563977\n"
     ]
    },
    {
     "name": "stderr",
     "output_type": "stream",
     "text": [
      "C:\\Users\\emili\\AppData\\Local\\Temp\\ipykernel_11564\\1824466024.py:47: SettingWithCopyWarning: \n",
      "A value is trying to be set on a copy of a slice from a DataFrame.\n",
      "Try using .loc[row_indexer,col_indexer] = value instead\n",
      "\n",
      "See the caveats in the documentation: https://pandas.pydata.org/pandas-docs/stable/user_guide/indexing.html#returning-a-view-versus-a-copy\n",
      "  data_bucket.loc[data_bucket.index,\"ps\"]=-1\n"
     ]
    },
    {
     "name": "stdout",
     "output_type": "stream",
     "text": [
      "Fitting 1 folds for each of 48 candidates, totalling 48 fits\n",
      "Mejores parámetros: {'colsample_bytree': 0.8, 'learning_rate': 0.05, 'max_depth': 6, 'n_estimators': 200, 'objective': 'reg:squarederror'}\n",
      "Mejor RMSE en validación: 2.1968518354016546\n"
     ]
    },
    {
     "name": "stderr",
     "output_type": "stream",
     "text": [
      "C:\\Users\\emili\\AppData\\Local\\Temp\\ipykernel_11564\\1824466024.py:47: SettingWithCopyWarning: \n",
      "A value is trying to be set on a copy of a slice from a DataFrame.\n",
      "Try using .loc[row_indexer,col_indexer] = value instead\n",
      "\n",
      "See the caveats in the documentation: https://pandas.pydata.org/pandas-docs/stable/user_guide/indexing.html#returning-a-view-versus-a-copy\n",
      "  data_bucket.loc[data_bucket.index,\"ps\"]=-1\n"
     ]
    },
    {
     "name": "stdout",
     "output_type": "stream",
     "text": [
      "Fitting 1 folds for each of 48 candidates, totalling 48 fits\n",
      "Mejores parámetros: {'colsample_bytree': 0.8, 'learning_rate': 0.1, 'max_depth': 4, 'n_estimators': 500, 'objective': 'reg:squarederror'}\n",
      "Mejor RMSE en validación: 2.411669001644258\n"
     ]
    },
    {
     "name": "stderr",
     "output_type": "stream",
     "text": [
      "C:\\Users\\emili\\AppData\\Local\\Temp\\ipykernel_11564\\1824466024.py:47: SettingWithCopyWarning: \n",
      "A value is trying to be set on a copy of a slice from a DataFrame.\n",
      "Try using .loc[row_indexer,col_indexer] = value instead\n",
      "\n",
      "See the caveats in the documentation: https://pandas.pydata.org/pandas-docs/stable/user_guide/indexing.html#returning-a-view-versus-a-copy\n",
      "  data_bucket.loc[data_bucket.index,\"ps\"]=-1\n"
     ]
    },
    {
     "name": "stdout",
     "output_type": "stream",
     "text": [
      "Fitting 1 folds for each of 48 candidates, totalling 48 fits\n",
      "Mejores parámetros: {'colsample_bytree': 1, 'learning_rate': 0.05, 'max_depth': 6, 'n_estimators': 500, 'objective': 'reg:squarederror'}\n",
      "Mejor RMSE en validación: 2.0724137803376883\n"
     ]
    },
    {
     "name": "stderr",
     "output_type": "stream",
     "text": [
      "C:\\Users\\emili\\AppData\\Local\\Temp\\ipykernel_11564\\1824466024.py:47: SettingWithCopyWarning: \n",
      "A value is trying to be set on a copy of a slice from a DataFrame.\n",
      "Try using .loc[row_indexer,col_indexer] = value instead\n",
      "\n",
      "See the caveats in the documentation: https://pandas.pydata.org/pandas-docs/stable/user_guide/indexing.html#returning-a-view-versus-a-copy\n",
      "  data_bucket.loc[data_bucket.index,\"ps\"]=-1\n"
     ]
    },
    {
     "name": "stdout",
     "output_type": "stream",
     "text": [
      "Fitting 1 folds for each of 48 candidates, totalling 48 fits\n",
      "Mejores parámetros: {'colsample_bytree': 1, 'learning_rate': 0.05, 'max_depth': 4, 'n_estimators': 350, 'objective': 'reg:squarederror'}\n",
      "Mejor RMSE en validación: 2.272388833569273\n"
     ]
    },
    {
     "name": "stderr",
     "output_type": "stream",
     "text": [
      "C:\\Users\\emili\\AppData\\Local\\Temp\\ipykernel_11564\\1824466024.py:47: SettingWithCopyWarning: \n",
      "A value is trying to be set on a copy of a slice from a DataFrame.\n",
      "Try using .loc[row_indexer,col_indexer] = value instead\n",
      "\n",
      "See the caveats in the documentation: https://pandas.pydata.org/pandas-docs/stable/user_guide/indexing.html#returning-a-view-versus-a-copy\n",
      "  data_bucket.loc[data_bucket.index,\"ps\"]=-1\n"
     ]
    },
    {
     "name": "stdout",
     "output_type": "stream",
     "text": [
      "Fitting 1 folds for each of 48 candidates, totalling 48 fits\n",
      "Mejores parámetros: {'colsample_bytree': 1, 'learning_rate': 0.1, 'max_depth': 6, 'n_estimators': 350, 'objective': 'reg:squarederror'}\n",
      "Mejor RMSE en validación: 2.270911223251704\n"
     ]
    },
    {
     "name": "stderr",
     "output_type": "stream",
     "text": [
      "C:\\Users\\emili\\AppData\\Local\\Temp\\ipykernel_11564\\1824466024.py:47: SettingWithCopyWarning: \n",
      "A value is trying to be set on a copy of a slice from a DataFrame.\n",
      "Try using .loc[row_indexer,col_indexer] = value instead\n",
      "\n",
      "See the caveats in the documentation: https://pandas.pydata.org/pandas-docs/stable/user_guide/indexing.html#returning-a-view-versus-a-copy\n",
      "  data_bucket.loc[data_bucket.index,\"ps\"]=-1\n"
     ]
    },
    {
     "name": "stdout",
     "output_type": "stream",
     "text": [
      "Fitting 1 folds for each of 48 candidates, totalling 48 fits\n",
      "Mejores parámetros: {'colsample_bytree': 1, 'learning_rate': 0.1, 'max_depth': 6, 'n_estimators': 350, 'objective': 'reg:squarederror'}\n",
      "Mejor RMSE en validación: 2.0774338692251093\n"
     ]
    },
    {
     "name": "stderr",
     "output_type": "stream",
     "text": [
      "C:\\Users\\emili\\AppData\\Local\\Temp\\ipykernel_11564\\1824466024.py:47: SettingWithCopyWarning: \n",
      "A value is trying to be set on a copy of a slice from a DataFrame.\n",
      "Try using .loc[row_indexer,col_indexer] = value instead\n",
      "\n",
      "See the caveats in the documentation: https://pandas.pydata.org/pandas-docs/stable/user_guide/indexing.html#returning-a-view-versus-a-copy\n",
      "  data_bucket.loc[data_bucket.index,\"ps\"]=-1\n"
     ]
    },
    {
     "name": "stdout",
     "output_type": "stream",
     "text": [
      "Fitting 1 folds for each of 48 candidates, totalling 48 fits\n",
      "Mejores parámetros: {'colsample_bytree': 0.8, 'learning_rate': 0.05, 'max_depth': 6, 'n_estimators': 350, 'objective': 'reg:squarederror'}\n",
      "Mejor RMSE en validación: 2.0230864178977397\n"
     ]
    },
    {
     "name": "stderr",
     "output_type": "stream",
     "text": [
      "C:\\Users\\emili\\AppData\\Local\\Temp\\ipykernel_11564\\1824466024.py:47: SettingWithCopyWarning: \n",
      "A value is trying to be set on a copy of a slice from a DataFrame.\n",
      "Try using .loc[row_indexer,col_indexer] = value instead\n",
      "\n",
      "See the caveats in the documentation: https://pandas.pydata.org/pandas-docs/stable/user_guide/indexing.html#returning-a-view-versus-a-copy\n",
      "  data_bucket.loc[data_bucket.index,\"ps\"]=-1\n"
     ]
    },
    {
     "name": "stdout",
     "output_type": "stream",
     "text": [
      "Fitting 1 folds for each of 48 candidates, totalling 48 fits\n",
      "Mejores parámetros: {'colsample_bytree': 0.8, 'learning_rate': 0.05, 'max_depth': 6, 'n_estimators': 200, 'objective': 'reg:squarederror'}\n",
      "Mejor RMSE en validación: 2.0635550250064805\n"
     ]
    },
    {
     "name": "stderr",
     "output_type": "stream",
     "text": [
      "C:\\Users\\emili\\AppData\\Local\\Temp\\ipykernel_11564\\1824466024.py:47: SettingWithCopyWarning: \n",
      "A value is trying to be set on a copy of a slice from a DataFrame.\n",
      "Try using .loc[row_indexer,col_indexer] = value instead\n",
      "\n",
      "See the caveats in the documentation: https://pandas.pydata.org/pandas-docs/stable/user_guide/indexing.html#returning-a-view-versus-a-copy\n",
      "  data_bucket.loc[data_bucket.index,\"ps\"]=-1\n"
     ]
    },
    {
     "name": "stdout",
     "output_type": "stream",
     "text": [
      "Fitting 1 folds for each of 48 candidates, totalling 48 fits\n",
      "Mejores parámetros: {'colsample_bytree': 1, 'learning_rate': 0.1, 'max_depth': 6, 'n_estimators': 200, 'objective': 'reg:squarederror'}\n",
      "Mejor RMSE en validación: 2.1366228068923583\n"
     ]
    },
    {
     "name": "stderr",
     "output_type": "stream",
     "text": [
      "C:\\Users\\emili\\AppData\\Local\\Temp\\ipykernel_11564\\1824466024.py:47: SettingWithCopyWarning: \n",
      "A value is trying to be set on a copy of a slice from a DataFrame.\n",
      "Try using .loc[row_indexer,col_indexer] = value instead\n",
      "\n",
      "See the caveats in the documentation: https://pandas.pydata.org/pandas-docs/stable/user_guide/indexing.html#returning-a-view-versus-a-copy\n",
      "  data_bucket.loc[data_bucket.index,\"ps\"]=-1\n"
     ]
    },
    {
     "name": "stdout",
     "output_type": "stream",
     "text": [
      "Fitting 1 folds for each of 48 candidates, totalling 48 fits\n",
      "Mejores parámetros: {'colsample_bytree': 0.8, 'learning_rate': 0.05, 'max_depth': 6, 'n_estimators': 500, 'objective': 'reg:squaredlogerror'}\n",
      "Mejor RMSE en validación: 2.1775094235977126\n"
     ]
    },
    {
     "name": "stderr",
     "output_type": "stream",
     "text": [
      "C:\\Users\\emili\\AppData\\Local\\Temp\\ipykernel_11564\\1824466024.py:47: SettingWithCopyWarning: \n",
      "A value is trying to be set on a copy of a slice from a DataFrame.\n",
      "Try using .loc[row_indexer,col_indexer] = value instead\n",
      "\n",
      "See the caveats in the documentation: https://pandas.pydata.org/pandas-docs/stable/user_guide/indexing.html#returning-a-view-versus-a-copy\n",
      "  data_bucket.loc[data_bucket.index,\"ps\"]=-1\n"
     ]
    },
    {
     "name": "stdout",
     "output_type": "stream",
     "text": [
      "Fitting 1 folds for each of 48 candidates, totalling 48 fits\n",
      "Mejores parámetros: {'colsample_bytree': 0.8, 'learning_rate': 0.05, 'max_depth': 6, 'n_estimators': 500, 'objective': 'reg:squarederror'}\n",
      "Mejor RMSE en validación: 1.9235999872193807\n"
     ]
    },
    {
     "name": "stderr",
     "output_type": "stream",
     "text": [
      "C:\\Users\\emili\\AppData\\Local\\Temp\\ipykernel_11564\\1824466024.py:47: SettingWithCopyWarning: \n",
      "A value is trying to be set on a copy of a slice from a DataFrame.\n",
      "Try using .loc[row_indexer,col_indexer] = value instead\n",
      "\n",
      "See the caveats in the documentation: https://pandas.pydata.org/pandas-docs/stable/user_guide/indexing.html#returning-a-view-versus-a-copy\n",
      "  data_bucket.loc[data_bucket.index,\"ps\"]=-1\n"
     ]
    },
    {
     "name": "stdout",
     "output_type": "stream",
     "text": [
      "Fitting 1 folds for each of 48 candidates, totalling 48 fits\n",
      "Mejores parámetros: {'colsample_bytree': 1, 'learning_rate': 0.1, 'max_depth': 6, 'n_estimators': 500, 'objective': 'reg:squaredlogerror'}\n",
      "Mejor RMSE en validación: 2.1665689931245584\n"
     ]
    },
    {
     "name": "stderr",
     "output_type": "stream",
     "text": [
      "C:\\Users\\emili\\AppData\\Local\\Temp\\ipykernel_11564\\1824466024.py:47: SettingWithCopyWarning: \n",
      "A value is trying to be set on a copy of a slice from a DataFrame.\n",
      "Try using .loc[row_indexer,col_indexer] = value instead\n",
      "\n",
      "See the caveats in the documentation: https://pandas.pydata.org/pandas-docs/stable/user_guide/indexing.html#returning-a-view-versus-a-copy\n",
      "  data_bucket.loc[data_bucket.index,\"ps\"]=-1\n"
     ]
    },
    {
     "name": "stdout",
     "output_type": "stream",
     "text": [
      "Fitting 1 folds for each of 48 candidates, totalling 48 fits\n",
      "Mejores parámetros: {'colsample_bytree': 0.8, 'learning_rate': 0.1, 'max_depth': 6, 'n_estimators': 200, 'objective': 'reg:squarederror'}\n",
      "Mejor RMSE en validación: 2.1385269090448094\n"
     ]
    },
    {
     "name": "stderr",
     "output_type": "stream",
     "text": [
      "C:\\Users\\emili\\AppData\\Local\\Temp\\ipykernel_11564\\1824466024.py:47: SettingWithCopyWarning: \n",
      "A value is trying to be set on a copy of a slice from a DataFrame.\n",
      "Try using .loc[row_indexer,col_indexer] = value instead\n",
      "\n",
      "See the caveats in the documentation: https://pandas.pydata.org/pandas-docs/stable/user_guide/indexing.html#returning-a-view-versus-a-copy\n",
      "  data_bucket.loc[data_bucket.index,\"ps\"]=-1\n"
     ]
    },
    {
     "name": "stdout",
     "output_type": "stream",
     "text": [
      "Fitting 1 folds for each of 48 candidates, totalling 48 fits\n",
      "Mejores parámetros: {'colsample_bytree': 0.8, 'learning_rate': 0.05, 'max_depth': 6, 'n_estimators': 500, 'objective': 'reg:squarederror'}\n",
      "Mejor RMSE en validación: 1.8185567610476894\n"
     ]
    },
    {
     "name": "stderr",
     "output_type": "stream",
     "text": [
      "C:\\Users\\emili\\AppData\\Local\\Temp\\ipykernel_11564\\1824466024.py:47: SettingWithCopyWarning: \n",
      "A value is trying to be set on a copy of a slice from a DataFrame.\n",
      "Try using .loc[row_indexer,col_indexer] = value instead\n",
      "\n",
      "See the caveats in the documentation: https://pandas.pydata.org/pandas-docs/stable/user_guide/indexing.html#returning-a-view-versus-a-copy\n",
      "  data_bucket.loc[data_bucket.index,\"ps\"]=-1\n"
     ]
    },
    {
     "name": "stdout",
     "output_type": "stream",
     "text": [
      "Fitting 1 folds for each of 48 candidates, totalling 48 fits\n",
      "Mejores parámetros: {'colsample_bytree': 0.8, 'learning_rate': 0.05, 'max_depth': 6, 'n_estimators': 200, 'objective': 'reg:squarederror'}\n",
      "Mejor RMSE en validación: 2.5060655733276005\n"
     ]
    },
    {
     "name": "stderr",
     "output_type": "stream",
     "text": [
      "C:\\Users\\emili\\AppData\\Local\\Temp\\ipykernel_11564\\1824466024.py:47: SettingWithCopyWarning: \n",
      "A value is trying to be set on a copy of a slice from a DataFrame.\n",
      "Try using .loc[row_indexer,col_indexer] = value instead\n",
      "\n",
      "See the caveats in the documentation: https://pandas.pydata.org/pandas-docs/stable/user_guide/indexing.html#returning-a-view-versus-a-copy\n",
      "  data_bucket.loc[data_bucket.index,\"ps\"]=-1\n"
     ]
    },
    {
     "name": "stdout",
     "output_type": "stream",
     "text": [
      "Fitting 1 folds for each of 48 candidates, totalling 48 fits\n",
      "Mejores parámetros: {'colsample_bytree': 1, 'learning_rate': 0.05, 'max_depth': 4, 'n_estimators': 500, 'objective': 'reg:squarederror'}\n",
      "Mejor RMSE en validación: 2.1976055304499145\n"
     ]
    },
    {
     "name": "stderr",
     "output_type": "stream",
     "text": [
      "C:\\Users\\emili\\AppData\\Local\\Temp\\ipykernel_11564\\1824466024.py:47: SettingWithCopyWarning: \n",
      "A value is trying to be set on a copy of a slice from a DataFrame.\n",
      "Try using .loc[row_indexer,col_indexer] = value instead\n",
      "\n",
      "See the caveats in the documentation: https://pandas.pydata.org/pandas-docs/stable/user_guide/indexing.html#returning-a-view-versus-a-copy\n",
      "  data_bucket.loc[data_bucket.index,\"ps\"]=-1\n"
     ]
    },
    {
     "name": "stdout",
     "output_type": "stream",
     "text": [
      "Fitting 1 folds for each of 48 candidates, totalling 48 fits\n",
      "Mejores parámetros: {'colsample_bytree': 0.8, 'learning_rate': 0.1, 'max_depth': 4, 'n_estimators': 500, 'objective': 'reg:squarederror'}\n",
      "Mejor RMSE en validación: 2.4271779823607127\n"
     ]
    },
    {
     "name": "stderr",
     "output_type": "stream",
     "text": [
      "C:\\Users\\emili\\AppData\\Local\\Temp\\ipykernel_11564\\1824466024.py:47: SettingWithCopyWarning: \n",
      "A value is trying to be set on a copy of a slice from a DataFrame.\n",
      "Try using .loc[row_indexer,col_indexer] = value instead\n",
      "\n",
      "See the caveats in the documentation: https://pandas.pydata.org/pandas-docs/stable/user_guide/indexing.html#returning-a-view-versus-a-copy\n",
      "  data_bucket.loc[data_bucket.index,\"ps\"]=-1\n"
     ]
    },
    {
     "name": "stdout",
     "output_type": "stream",
     "text": [
      "Fitting 1 folds for each of 48 candidates, totalling 48 fits\n",
      "Mejores parámetros: {'colsample_bytree': 0.8, 'learning_rate': 0.1, 'max_depth': 4, 'n_estimators': 500, 'objective': 'reg:squaredlogerror'}\n",
      "Mejor RMSE en validación: 2.5717356758920578\n"
     ]
    },
    {
     "name": "stderr",
     "output_type": "stream",
     "text": [
      "C:\\Users\\emili\\AppData\\Local\\Temp\\ipykernel_11564\\1824466024.py:47: SettingWithCopyWarning: \n",
      "A value is trying to be set on a copy of a slice from a DataFrame.\n",
      "Try using .loc[row_indexer,col_indexer] = value instead\n",
      "\n",
      "See the caveats in the documentation: https://pandas.pydata.org/pandas-docs/stable/user_guide/indexing.html#returning-a-view-versus-a-copy\n",
      "  data_bucket.loc[data_bucket.index,\"ps\"]=-1\n"
     ]
    },
    {
     "name": "stdout",
     "output_type": "stream",
     "text": [
      "Fitting 1 folds for each of 48 candidates, totalling 48 fits\n",
      "Mejores parámetros: {'colsample_bytree': 0.8, 'learning_rate': 0.05, 'max_depth': 6, 'n_estimators': 200, 'objective': 'reg:squaredlogerror'}\n",
      "Mejor RMSE en validación: 2.1824601949967866\n"
     ]
    }
   ],
   "source": [
    "#model=XGBRegressor()\n",
    "separador=\"group\"\n",
    "bins=ventas[separador].unique()\n",
    "TARGET=[\"demand\"]\n",
    "FEATURES=[#'mean_price', #'std_price', \n",
    "          'max_price', 'min_price',\n",
    "        'cluster', #'store_cod', \n",
    "        # 'subgroup_cod', #'day',\n",
    "       #'month', \n",
    "        'year', 'anual_sin_1',\n",
    "    'anual_cos_1', 'mensual_sin_1',\n",
    "       #'mensual_cos_1', \n",
    "        #'anual_sin_2', 'anual_cos_2', \n",
    "    'mensual_sin_2', #'demand_rolling_mean_7d',\n",
    "       'demand_rolling_sum_7d', \n",
    "    #'demand_rolling_mean_28d',\n",
    "       #'demand_rolling_sum_28d'\n",
    "       #'mensual_cos_2',\n",
    "        # 'mean_price_rolling_mean_7d',\n",
    "       #'mean_price_rolling_sum_7d', \n",
    "    #'mean_price_rolling_mean_28d',\n",
    "       #'mean_price_rolling_sum_28d'   \n",
    "]\n",
    "evals_result={}\n",
    "\n",
    "# Diccionario para guardar resultados por bucket\n",
    "resultados_por_bucket = {}\n",
    "\n",
    "# Grilla de hiperparámetros\n",
    "param_grid = {\n",
    "    'n_estimators': [200,350,500],\n",
    "    'max_depth': [4, 6],\n",
    "    'learning_rate': [0.05, 0.1],\n",
    "    #'subsample': [0.8, 1],\n",
    "    'colsample_bytree': [0.8, 1],\n",
    "    #'reg_alpha': [0, 5],\n",
    "    #'reg_lambda': [1, 5]\n",
    "    \"objective\":[\"reg:squaredlogerror\",\"reg:squarederror\"]\n",
    "}\n",
    "\n",
    "for bucket in bins:\n",
    "    data_bucket = ventas[ventas[separador] == bucket]\n",
    "    \n",
    "    # Crear test: últimas 7 filas por grupo\n",
    "    test = data_bucket.groupby(['store_cod', 'subgroup_cod']).tail(7)\n",
    "    train = data_bucket.drop(test.index)\n",
    "    data_bucket.loc[data_bucket.index,\"ps\"]=-1\n",
    "    data_bucket.loc[test.index,\"ps\"]=0\n",
    "\n",
    "    test_fold=data_bucket[\"ps\"]\n",
    "    # Creamos el split\n",
    "    ps = PredefinedSplit(test_fold)\n",
    "\n",
    "    #definimos el modelo\n",
    "    \n",
    "    reg = XGBRegressor(\n",
    "    #reducir el numero de columnas aumenta la importancia de std_price\n",
    "    )\n",
    "\n",
    "    grid_search = GridSearchCV(\n",
    "        estimator=reg,\n",
    "        param_grid=param_grid,\n",
    "        scoring='neg_root_mean_squared_error',\n",
    "        cv=ps,\n",
    "        verbose=2,\n",
    "        n_jobs=-1\n",
    "    )\n",
    "    \n",
    "    grid_search.fit(data_bucket[FEATURES], data_bucket[TARGET])\n",
    "\n",
    "    # Guardar resultados\n",
    "    resultados_por_bucket[bucket] = {\n",
    "        'best_params': grid_search.best_params_,\n",
    "        'best_score': -grid_search.best_score_  # lo paso a positivo\n",
    "    }\n",
    "    \n",
    "    print(\"Mejores parámetros:\", grid_search.best_params_)\n",
    "    print(\"Mejor RMSE en validación:\", -grid_search.best_score_)    "
   ]
  },
  {
   "cell_type": "code",
   "execution_count": 65,
   "id": "4c47a048-5ef6-43c4-b723-cd51b9e5e486",
   "metadata": {},
   "outputs": [
    {
     "name": "stdout",
     "output_type": "stream",
     "text": [
      "Men rmse: 2.311519698926529\n",
      "Fiction rmse: 2.0809230770998046\n",
      "Audio rmse: 2.0183582906692012\n",
      "Computing rmse: 2.4648140231563977\n",
      "Games rmse: 2.1968518354016546\n",
      "Outdoor rmse: 2.411669001644258\n",
      "Non-Fiction rmse: 2.0724137803376883\n",
      "Team Sports rmse: 2.272388833569273\n",
      "Educational rmse: 2.270911223251704\n",
      "Skincare rmse: 2.0774338692251093\n",
      "Cookware rmse: 2.0230864178977397\n",
      "Appliances rmse: 2.0635550250064805\n",
      "Children rmse: 2.1366228068923583\n",
      "Fitness rmse: 2.1775094235977126\n",
      "Furniture rmse: 1.9235999872193807\n",
      "Pantry rmse: 2.1665689931245584\n",
      "Beverages rmse: 2.1385269090448094\n",
      "Mobile rmse: 1.8185567610476894\n",
      "Snacks rmse: 2.5060655733276005\n",
      "Action rmse: 2.1976055304499145\n",
      "Haircare rmse: 2.4271779823607127\n",
      "Makeup rmse: 2.5717356758920578\n",
      "Women rmse: 2.1824601949967866\n",
      "2.196102387571279\n"
     ]
    }
   ],
   "source": [
    "resultados_por_bucket\n",
    "acum=0\n",
    "for key in resultados_por_bucket.keys():\n",
    "    \n",
    "    acum+=resultados_por_bucket[key]['best_score']\n",
    "    print(key+ \" rmse: \"+str(resultados_por_bucket[key]['best_score']))\n",
    "print(acum/len(resultados_por_bucket.keys()))"
   ]
  },
  {
   "cell_type": "code",
   "execution_count": null,
   "id": "5b746c65-6df7-4c53-bf31-fc7af1a7b06f",
   "metadata": {},
   "outputs": [],
   "source": [
    "from inline_sql import sql, sql_val\n",
    "\n",
    "taka=sql^\"\"\"SELECT DISTINCT category, \"group\" FROM ventas order by category\"\"\"\n",
    "taka[\"dict\"]=taka[\"group\"].map(resultados_por_bucket)\n",
    "taka[\"rmse\"]=0\n",
    "taka[\"params\"]={}\n",
    "for i in range(len(taka)):\n",
    "    fila=taka[\"dict\"].iloc[i]\n",
    "    taka[\"rmse\"].iloc[i]=fila[\"best_score\"]\n",
    "    taka[\"params\"].iloc[i]=fila[\"best_params\"]\n",
    "taka.to_csv(\"prueba_parametro_por_grupo.csv\")"
   ]
  },
  {
   "cell_type": "code",
   "execution_count": 87,
   "id": "762838e0-9732-4d91-a58d-ae7e2c0abbc0",
   "metadata": {},
   "outputs": [],
   "source": [
    "taka.to_csv(\"prueba_parametro_por_grupo.csv\")"
   ]
  },
  {
   "cell_type": "code",
   "execution_count": 88,
   "id": "acf5e7b9-cbba-43fd-ad93-5e8708d25f2a",
   "metadata": {},
   "outputs": [
    {
     "name": "stderr",
     "output_type": "stream",
     "text": [
      "C:\\Users\\emili\\AppData\\Local\\Temp\\ipykernel_11564\\974415837.py:48: SettingWithCopyWarning: \n",
      "A value is trying to be set on a copy of a slice from a DataFrame.\n",
      "Try using .loc[row_indexer,col_indexer] = value instead\n",
      "\n",
      "See the caveats in the documentation: https://pandas.pydata.org/pandas-docs/stable/user_guide/indexing.html#returning-a-view-versus-a-copy\n",
      "  data_bucket.loc[data_bucket.index,\"ps\"]=-1\n"
     ]
    },
    {
     "name": "stdout",
     "output_type": "stream",
     "text": [
      "Fitting 1 folds for each of 10 candidates, totalling 10 fits\n",
      "Mejores parámetros: {'reg_lambda': 1, 'reg_alpha': 10, 'objective': 'reg:squarederror', 'n_estimators': 350, 'max_depth': 6, 'learning_rate': 0.05, 'colsample_bytree': 1}\n",
      "Mejor RMSE en validación: 2.210301238790134\n"
     ]
    },
    {
     "name": "stderr",
     "output_type": "stream",
     "text": [
      "C:\\Users\\emili\\AppData\\Local\\Temp\\ipykernel_11564\\974415837.py:48: SettingWithCopyWarning: \n",
      "A value is trying to be set on a copy of a slice from a DataFrame.\n",
      "Try using .loc[row_indexer,col_indexer] = value instead\n",
      "\n",
      "See the caveats in the documentation: https://pandas.pydata.org/pandas-docs/stable/user_guide/indexing.html#returning-a-view-versus-a-copy\n",
      "  data_bucket.loc[data_bucket.index,\"ps\"]=-1\n"
     ]
    },
    {
     "name": "stdout",
     "output_type": "stream",
     "text": [
      "Fitting 1 folds for each of 10 candidates, totalling 10 fits\n",
      "Mejores parámetros: {'reg_lambda': 1, 'reg_alpha': 10, 'objective': 'reg:squarederror', 'n_estimators': 350, 'max_depth': 6, 'learning_rate': 0.05, 'colsample_bytree': 1}\n",
      "Mejor RMSE en validación: 2.052879777195339\n"
     ]
    },
    {
     "name": "stderr",
     "output_type": "stream",
     "text": [
      "C:\\Users\\emili\\AppData\\Local\\Temp\\ipykernel_11564\\974415837.py:48: SettingWithCopyWarning: \n",
      "A value is trying to be set on a copy of a slice from a DataFrame.\n",
      "Try using .loc[row_indexer,col_indexer] = value instead\n",
      "\n",
      "See the caveats in the documentation: https://pandas.pydata.org/pandas-docs/stable/user_guide/indexing.html#returning-a-view-versus-a-copy\n",
      "  data_bucket.loc[data_bucket.index,\"ps\"]=-1\n"
     ]
    },
    {
     "name": "stdout",
     "output_type": "stream",
     "text": [
      "Fitting 1 folds for each of 10 candidates, totalling 10 fits\n",
      "Mejores parámetros: {'reg_lambda': 1, 'reg_alpha': 10, 'objective': 'reg:squarederror', 'n_estimators': 500, 'max_depth': 4, 'learning_rate': 0.1, 'colsample_bytree': 1}\n",
      "Mejor RMSE en validación: 2.1220117320665377\n"
     ]
    },
    {
     "name": "stderr",
     "output_type": "stream",
     "text": [
      "C:\\Users\\emili\\AppData\\Local\\Temp\\ipykernel_11564\\974415837.py:48: SettingWithCopyWarning: \n",
      "A value is trying to be set on a copy of a slice from a DataFrame.\n",
      "Try using .loc[row_indexer,col_indexer] = value instead\n",
      "\n",
      "See the caveats in the documentation: https://pandas.pydata.org/pandas-docs/stable/user_guide/indexing.html#returning-a-view-versus-a-copy\n",
      "  data_bucket.loc[data_bucket.index,\"ps\"]=-1\n"
     ]
    },
    {
     "name": "stdout",
     "output_type": "stream",
     "text": [
      "Fitting 1 folds for each of 10 candidates, totalling 10 fits\n",
      "Mejores parámetros: {'reg_lambda': 1, 'reg_alpha': 0, 'objective': 'reg:squarederror', 'n_estimators': 200, 'max_depth': 6, 'learning_rate': 0.05, 'colsample_bytree': 0.8}\n",
      "Mejor RMSE en validación: 2.230674824232632\n"
     ]
    },
    {
     "name": "stderr",
     "output_type": "stream",
     "text": [
      "C:\\Users\\emili\\AppData\\Local\\Temp\\ipykernel_11564\\974415837.py:48: SettingWithCopyWarning: \n",
      "A value is trying to be set on a copy of a slice from a DataFrame.\n",
      "Try using .loc[row_indexer,col_indexer] = value instead\n",
      "\n",
      "See the caveats in the documentation: https://pandas.pydata.org/pandas-docs/stable/user_guide/indexing.html#returning-a-view-versus-a-copy\n",
      "  data_bucket.loc[data_bucket.index,\"ps\"]=-1\n"
     ]
    },
    {
     "name": "stdout",
     "output_type": "stream",
     "text": [
      "Fitting 1 folds for each of 10 candidates, totalling 10 fits\n",
      "Mejores parámetros: {'reg_lambda': 1, 'reg_alpha': 10, 'objective': 'reg:squarederror', 'n_estimators': 350, 'max_depth': 6, 'learning_rate': 0.05, 'colsample_bytree': 1}\n",
      "Mejor RMSE en validación: 2.3137701512691358\n"
     ]
    },
    {
     "name": "stderr",
     "output_type": "stream",
     "text": [
      "C:\\Users\\emili\\AppData\\Local\\Temp\\ipykernel_11564\\974415837.py:48: SettingWithCopyWarning: \n",
      "A value is trying to be set on a copy of a slice from a DataFrame.\n",
      "Try using .loc[row_indexer,col_indexer] = value instead\n",
      "\n",
      "See the caveats in the documentation: https://pandas.pydata.org/pandas-docs/stable/user_guide/indexing.html#returning-a-view-versus-a-copy\n",
      "  data_bucket.loc[data_bucket.index,\"ps\"]=-1\n"
     ]
    },
    {
     "name": "stdout",
     "output_type": "stream",
     "text": [
      "Fitting 1 folds for each of 10 candidates, totalling 10 fits\n",
      "Mejores parámetros: {'reg_lambda': 1, 'reg_alpha': 10, 'objective': 'reg:squarederror', 'n_estimators': 500, 'max_depth': 4, 'learning_rate': 0.1, 'colsample_bytree': 1}\n",
      "Mejor RMSE en validación: 2.403744668373586\n"
     ]
    },
    {
     "name": "stderr",
     "output_type": "stream",
     "text": [
      "C:\\Users\\emili\\AppData\\Local\\Temp\\ipykernel_11564\\974415837.py:48: SettingWithCopyWarning: \n",
      "A value is trying to be set on a copy of a slice from a DataFrame.\n",
      "Try using .loc[row_indexer,col_indexer] = value instead\n",
      "\n",
      "See the caveats in the documentation: https://pandas.pydata.org/pandas-docs/stable/user_guide/indexing.html#returning-a-view-versus-a-copy\n",
      "  data_bucket.loc[data_bucket.index,\"ps\"]=-1\n"
     ]
    },
    {
     "name": "stdout",
     "output_type": "stream",
     "text": [
      "Fitting 1 folds for each of 10 candidates, totalling 10 fits\n",
      "Mejores parámetros: {'reg_lambda': 1, 'reg_alpha': 10, 'objective': 'reg:squarederror', 'n_estimators': 350, 'max_depth': 6, 'learning_rate': 0.05, 'colsample_bytree': 1}\n",
      "Mejor RMSE en validación: 2.0006608073493375\n"
     ]
    },
    {
     "name": "stderr",
     "output_type": "stream",
     "text": [
      "C:\\Users\\emili\\AppData\\Local\\Temp\\ipykernel_11564\\974415837.py:48: SettingWithCopyWarning: \n",
      "A value is trying to be set on a copy of a slice from a DataFrame.\n",
      "Try using .loc[row_indexer,col_indexer] = value instead\n",
      "\n",
      "See the caveats in the documentation: https://pandas.pydata.org/pandas-docs/stable/user_guide/indexing.html#returning-a-view-versus-a-copy\n",
      "  data_bucket.loc[data_bucket.index,\"ps\"]=-1\n"
     ]
    },
    {
     "name": "stdout",
     "output_type": "stream",
     "text": [
      "Fitting 1 folds for each of 10 candidates, totalling 10 fits\n",
      "Mejores parámetros: {'reg_lambda': 1, 'reg_alpha': 0, 'objective': 'reg:squarederror', 'n_estimators': 200, 'max_depth': 6, 'learning_rate': 0.05, 'colsample_bytree': 0.8}\n",
      "Mejor RMSE en validación: 2.288032235643285\n"
     ]
    }
   ],
   "source": [
    "#randomized_search\n",
    "#model=XGBRegressor()\n",
    "separador=\"category\"\n",
    "bins=ventas[separador].unique()\n",
    "TARGET=[\"demand\"]\n",
    "FEATURES=[#'mean_price', #'std_price', \n",
    "          'max_price', 'min_price',\n",
    "        'cluster', #'store_cod', \n",
    "        # 'subgroup_cod', #'day',\n",
    "       #'month', \n",
    "        'year', 'anual_sin_1',\n",
    "    'anual_cos_1', 'mensual_sin_1',\n",
    "       #'mensual_cos_1', \n",
    "        #'anual_sin_2', 'anual_cos_2', \n",
    "    'mensual_sin_2', #'demand_rolling_mean_7d',\n",
    "       'demand_rolling_sum_7d', \n",
    "    #'demand_rolling_mean_28d',\n",
    "       #'demand_rolling_sum_28d'\n",
    "       #'mensual_cos_2',\n",
    "        # 'mean_price_rolling_mean_7d',\n",
    "       #'mean_price_rolling_sum_7d', \n",
    "    #'mean_price_rolling_mean_28d',\n",
    "       #'mean_price_rolling_sum_28d'   \n",
    "]\n",
    "evals_result={}\n",
    "\n",
    "# Diccionario para guardar resultados por bucket\n",
    "resultados_por_bucket_rnd = {}\n",
    "\n",
    "# Grilla de hiperparámetros\n",
    "param_grid = {\n",
    "    'n_estimators': [200,350,500],\n",
    "    'max_depth': [4, 6],\n",
    "    'learning_rate': [0.05, 0.1],\n",
    "    #'subsample': [0.8, 1],\n",
    "    'colsample_bytree': [0.8, 1],\n",
    "    'reg_alpha': [0, 5,10,20],\n",
    "    'reg_lambda': [1, 5],\n",
    "    \"objective\":[\"reg:squaredlogerror\",\"reg:squarederror\"]\n",
    "}\n",
    "\n",
    "for bucket in bins:\n",
    "    data_bucket = ventas[ventas[separador] == bucket]\n",
    "    \n",
    "    # Crear test: últimas 7 filas por grupo\n",
    "    test = data_bucket.groupby(['store_cod', 'subgroup_cod']).tail(7)\n",
    "    train = data_bucket.drop(test.index)\n",
    "    data_bucket.loc[data_bucket.index,\"ps\"]=-1\n",
    "    data_bucket.loc[test.index,\"ps\"]=0\n",
    "\n",
    "    X_test=test[FEATURES]\n",
    "    y_test=test[TARGET]\n",
    "\n",
    "    test_fold=data_bucket[\"ps\"]\n",
    "    # Creamos el split\n",
    "    ps = PredefinedSplit(test_fold)\n",
    "\n",
    "    fit_params = {\n",
    "    \"eval_set\": [(X_test, y_test)],\n",
    "    \"verbose\": False\n",
    "    }\n",
    "\n",
    "    #definimos el modelo\n",
    "    n_iter_search=10\n",
    "    reg = XGBRegressor(\n",
    "        early_stopping_rounds= 30,\n",
    "        eval_metric= \"rmse\",\n",
    "    #reducir el numero de columnas aumenta la importancia de std_price\n",
    "    )\n",
    "\n",
    "\n",
    "    rand_search = RandomizedSearchCV(\n",
    "    estimator=reg,\n",
    "    param_distributions=param_grid,\n",
    "    n_iter=n_iter_search,\n",
    "    scoring='neg_root_mean_squared_error',\n",
    "    cv=ps,  # tu PredefinedSplit definido antes\n",
    "    verbose=2,\n",
    "    n_jobs=-1,\n",
    "    random_state=42\n",
    ")\n",
    "    rand_search.fit(data_bucket[FEATURES], data_bucket[TARGET],**fit_params)\n",
    "\n",
    "    # Guardar resultados\n",
    "    resultados_por_bucket_rnd[bucket] = {\n",
    "        'best_params': rand_search.best_params_,\n",
    "        'best_score': -rand_search.best_score_  # lo paso a positivo\n",
    "    }\n",
    "    \n",
    "    print(\"Mejores parámetros:\", rand_search.best_params_)\n",
    "    print(\"Mejor RMSE en validación:\", -rand_search.best_score_)    \n",
    "\n"
   ]
  },
  {
   "cell_type": "code",
   "execution_count": null,
   "id": "32c486d8-db80-4813-8de3-7ca01ff65900",
   "metadata": {},
   "outputs": [],
   "source": [
    "#clothing Mejores parámetros: {'objective': 'reg:squarederror', 'n_estimators': 200, 'max_depth': 6, 'learning_rate': 0.1, 'colsample_bytree': 1}"
   ]
  },
  {
   "cell_type": "code",
   "execution_count": 57,
   "id": "c5c7f04f-1517-4111-9042-9151ab7db5eb",
   "metadata": {},
   "outputs": [
    {
     "name": "stdout",
     "output_type": "stream",
     "text": [
      "2.19875\n"
     ]
    }
   ],
   "source": [
    "parameters=[\n",
    "    {'reg_lambda': 1, 'reg_alpha': 10, 'objective': 'reg:squarederror', 'n_estimators': 500, 'max_depth': 6, 'learning_rate': 0.05, 'colsample_bytree': 1},\n",
    "{'reg_lambda': 1, 'reg_alpha': 10, 'objective': 'reg:squarederror', 'n_estimators': 500, 'max_depth': 6, 'learning_rate': 0.05, 'colsample_bytree': 1},\n",
    " {'reg_lambda': 10, 'reg_alpha': 0, 'objective': 'reg:squarederror', 'n_estimators': 200, 'max_depth': 6, 'learning_rate': 0.1, 'colsample_bytree': 1},\n",
    " {'reg_lambda': 10, 'reg_alpha': 0, 'objective': 'reg:squarederror', 'n_estimators': 200, 'max_depth': 6, 'learning_rate': 0.1, 'colsample_bytree': 1},\n",
    "{'reg_lambda': 1, 'reg_alpha': 5, 'objective': 'reg:squarederror', 'n_estimators': 350, 'max_depth': 6, 'learning_rate': 0.05, 'colsample_bytree': 0.8},\n",
    " {'reg_lambda': 1, 'reg_alpha': 5, 'objective': 'reg:squarederror', 'n_estimators': 350, 'max_depth': 6, 'learning_rate': 0.05, 'colsample_bytree': 0.8},\n",
    "{'reg_lambda': 1, 'reg_alpha': 10, 'objective': 'reg:squarederror', 'n_estimators': 500, 'max_depth': 6, 'learning_rate': 0.05, 'colsample_bytree': 1},\n",
    "{'reg_lambda': 1, 'reg_alpha': 5, 'objective': 'reg:squarederror', 'n_estimators': 350, 'max_depth': 6, 'learning_rate': 0.05, 'colsample_bytree': 0.8}]\n",
    "\n",
    "print((2.21+2.05+2.11+2.23+2.31+2.40+2.00+2.28)/8)"
   ]
  },
  {
   "cell_type": "code",
   "execution_count": null,
   "id": "f497c414-068e-4e30-bd81-2e0aa5b3d13f",
   "metadata": {},
   "outputs": [],
   "source": [
    "from inline_sql import sql, sql_val\n",
    "\n",
    "taka=sql^\"\"\"SELECT DISTINCT category FROM ventas order by category\"\"\"\n",
    "taka[\"dict\"]=taka[\"category\"].map(resultados_por_bucket_rnd)\n",
    "taka[\"rmse\"]=0\n",
    "taka[\"params\"]={}\n",
    "for i in range(len(taka)):\n",
    "     fila=taka[\"dict\"].iloc[i]\n",
    "     taka[\"rmse\"].iloc[i]=fila[\"best_score\"]\n",
    "     taka[\"params\"].iloc[i]=fila[\"best_params\"]\n",
    "taka.to_csv(\"prueba_parametro_por_categoria.csv\")\n",
    "#resultados_por_bucket\n",
    "taka"
   ]
  },
  {
   "cell_type": "code",
   "execution_count": 96,
   "id": "9e53b8eb-e227-4d4d-ab1e-3c853fd94bfd",
   "metadata": {},
   "outputs": [
    {
     "data": {
      "text/html": [
       "<div>\n",
       "<style scoped>\n",
       "    .dataframe tbody tr th:only-of-type {\n",
       "        vertical-align: middle;\n",
       "    }\n",
       "\n",
       "    .dataframe tbody tr th {\n",
       "        vertical-align: top;\n",
       "    }\n",
       "\n",
       "    .dataframe thead th {\n",
       "        text-align: right;\n",
       "    }\n",
       "</style>\n",
       "<table border=\"1\" class=\"dataframe\">\n",
       "  <thead>\n",
       "    <tr style=\"text-align: right;\">\n",
       "      <th></th>\n",
       "      <th>category</th>\n",
       "      <th>rmse</th>\n",
       "    </tr>\n",
       "  </thead>\n",
       "  <tbody>\n",
       "    <tr>\n",
       "      <th>0</th>\n",
       "      <td>Beauty</td>\n",
       "      <td>2.403745</td>\n",
       "    </tr>\n",
       "    <tr>\n",
       "      <th>1</th>\n",
       "      <td>Books</td>\n",
       "      <td>2.052880</td>\n",
       "    </tr>\n",
       "    <tr>\n",
       "      <th>2</th>\n",
       "      <td>Clothing</td>\n",
       "      <td>2.210301</td>\n",
       "    </tr>\n",
       "    <tr>\n",
       "      <th>3</th>\n",
       "      <td>Electronics</td>\n",
       "      <td>2.122012</td>\n",
       "    </tr>\n",
       "    <tr>\n",
       "      <th>4</th>\n",
       "      <td>Groceries</td>\n",
       "      <td>2.288032</td>\n",
       "    </tr>\n",
       "    <tr>\n",
       "      <th>5</th>\n",
       "      <td>Home &amp; Kitchen</td>\n",
       "      <td>2.000661</td>\n",
       "    </tr>\n",
       "    <tr>\n",
       "      <th>6</th>\n",
       "      <td>Sports</td>\n",
       "      <td>2.313770</td>\n",
       "    </tr>\n",
       "    <tr>\n",
       "      <th>7</th>\n",
       "      <td>Toys</td>\n",
       "      <td>2.230675</td>\n",
       "    </tr>\n",
       "  </tbody>\n",
       "</table>\n",
       "</div>"
      ],
      "text/plain": [
       "         category      rmse\n",
       "0          Beauty  2.403745\n",
       "1           Books  2.052880\n",
       "2        Clothing  2.210301\n",
       "3     Electronics  2.122012\n",
       "4       Groceries  2.288032\n",
       "5  Home & Kitchen  2.000661\n",
       "6          Sports  2.313770\n",
       "7            Toys  2.230675"
      ]
     },
     "execution_count": 96,
     "metadata": {},
     "output_type": "execute_result"
    }
   ],
   "source": [
    "taka[[\"category\",\"rmse\"]]\n",
    "#Beauty pesimo\n",
    "#books ta weno\n",
    "#clothing same\n",
    "#Electronics\t\n",
    "#Groceries\t\n",
    "#Home & Kitchen\t\n",
    "#Sports\t\n",
    "#Toys"
   ]
  },
  {
   "cell_type": "code",
   "execution_count": null,
   "id": "b877a1db-7dbb-4982-8428-b11c8bbd7054",
   "metadata": {},
   "outputs": [],
   "source": []
  }
 ],
 "metadata": {
  "kernelspec": {
   "display_name": "Python 3 (ipykernel)",
   "language": "python",
   "name": "python3"
  },
  "language_info": {
   "codemirror_mode": {
    "name": "ipython",
    "version": 3
   },
   "file_extension": ".py",
   "mimetype": "text/x-python",
   "name": "python",
   "nbconvert_exporter": "python",
   "pygments_lexer": "ipython3",
   "version": "3.12.4"
  }
 },
 "nbformat": 4,
 "nbformat_minor": 5
}
