{
 "cells": [
  {
   "cell_type": "markdown",
   "id": "8ae0e691-9151-4273-bbed-808d5bb4b94a",
   "metadata": {},
   "source": [
    "# Modelos de prediccion\n",
    "Vamos a probar distintos enfoques:\n",
    "Enfoques de serie de tiempo:\n",
    "* Suavizado exponencial #investigar\n",
    "\n",
    "Enfoques Machine Learning:\n",
    "* XGboost: Emiii\n",
    "* LIGHT_GBM: Rugo\n",
    "* Catboost: Vano"
   ]
  }
 ],
 "metadata": {
  "kernelspec": {
   "display_name": "Python 3 (ipykernel)",
   "language": "python",
   "name": "python3"
  },
  "language_info": {
   "codemirror_mode": {
    "name": "ipython",
    "version": 3
   },
   "file_extension": ".py",
   "mimetype": "text/x-python",
   "name": "python",
   "nbconvert_exporter": "python",
   "pygments_lexer": "ipython3",
   "version": "3.12.4"
  }
 },
 "nbformat": 4,
 "nbformat_minor": 5
}
