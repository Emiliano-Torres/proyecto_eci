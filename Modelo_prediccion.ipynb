{
 "cells": [
  {
   "cell_type": "markdown",
   "id": "8ae0e691-9151-4273-bbed-808d5bb4b94a",
   "metadata": {},
   "source": [
    "# Modelos de prediccion\n",
    "Vamos a probar distintos enfoques:\n",
    "Enfoques de serie de tiempo:\n",
    "* Suavizado exponencial #investigar\n",
    "\n",
    "Enfoques Machine Learning:\n",
    "* XGboost: Emiii\n",
    "* LIGHT_GBM: Rugo\n",
    "* Catboost: Vano"
   ]
  },
  {
   "cell_type": "code",
   "execution_count": null,
   "id": "a53a7bf9-a812-4170-9cfc-a77e8746fc26",
   "metadata": {},
   "outputs": [],
   "source": [
    "from DataLoader import importar_ventas"
   ]
  },
  {
   "cell_type": "code",
   "execution_count": null,
   "id": "32af706c-bf36-45d1-82c0-718e6a501a60",
   "metadata": {},
   "outputs": [],
   "source": [
    "\n",
    "FEATURES=['day','month','year', 'demand', 'mean_price', 'cluster', 'cod_store_subgroup',\n",
    "       'demand_lag_1', 'demand_lag_2', 'demand_lag_3', 'demand_lag_4',\n",
    "       'demand_lag_5', 'demand_lag_6', 'demand_lag_7']\n",
    "TARGET=['demand']\n",
    "\n",
    "test=ventas.groupby(\"cod_store_subgroup\").tail(7)\n",
    "train=ventas.drop(test.index)\n",
    "\n",
    "X_train=train[FEATURES]\n",
    "y_train=train[TARGET]\n",
    "X_test=test[FEATURES]\n",
    "y_test=test[TARGET]"
   ]
  }
 ],
 "metadata": {
  "kernelspec": {
   "display_name": "Python 3 (ipykernel)",
   "language": "python",
   "name": "python3"
  },
  "language_info": {
   "codemirror_mode": {
    "name": "ipython",
    "version": 3
   },
   "file_extension": ".py",
   "mimetype": "text/x-python",
   "name": "python",
   "nbconvert_exporter": "python",
   "pygments_lexer": "ipython3",
   "version": "3.12.4"
  }
 },
 "nbformat": 4,
 "nbformat_minor": 5
}
