{
 "cells": [
  {
   "cell_type": "markdown",
   "id": "8ae0e691-9151-4273-bbed-808d5bb4b94a",
   "metadata": {},
   "source": [
    "# Modelos de prediccion\n",
    "Vamos a probar distintos enfoques:\n",
    "Enfoques de serie de tiempo:\n",
    "* Suavizado exponencial #investigar\n",
    "\n",
    "Enfoques Machine Learning:\n",
    "* XGboost: Emiii\n",
    "* LIGHT_GBM: Rugo\n",
    "* Catboost: Vano"
   ]
  },
  {
   "cell_type": "code",
   "execution_count": 1,
   "id": "a53a7bf9-a812-4170-9cfc-a77e8746fc26",
   "metadata": {},
   "outputs": [],
   "source": [
    "from DataLoader import importar_ventas,importar_cluster_stores,leer_csv,agregar_fourier,preparar_test\n",
    "\n",
    "from DataLoader import generar_rolling_features,crear_archivo_kaggle\n",
    "import xgboost as xgb\n",
    "import pandas as pd"
   ]
  },
  {
   "cell_type": "code",
   "execution_count": 2,
   "id": "6f340a70-4470-49b7-b121-60c3d587ed10",
   "metadata": {},
   "outputs": [],
   "source": [
    "ventas=importar_ventas()"
   ]
  },
  {
   "cell_type": "code",
   "execution_count": 5,
   "id": "4b67bdbd-402b-45f5-8cb0-8dd357bb1d2c",
   "metadata": {},
   "outputs": [
    {
     "data": {
      "text/plain": [
       "Index(['date', 'demand', 'mean_price', 'std_price', 'max_price', 'min_price',\n",
       "       'std_discount', 'max_discount', 'min_discount', 'std_diff_factory',\n",
       "       'max_diff_factory', 'min_diff_factory', 'group', 'category', 'cluster',\n",
       "       'store_cod', 'subgroup_cod', 'day', 'month', 'year'],\n",
       "      dtype='object')"
      ]
     },
     "execution_count": 5,
     "metadata": {},
     "output_type": "execute_result"
    }
   ],
   "source": [
    "ventas.columns"
   ]
  },
  {
   "cell_type": "code",
   "execution_count": 3,
   "id": "79a104bf-928c-4110-8766-58043ebfcb72",
   "metadata": {},
   "outputs": [],
   "source": [
    "test=preparar_test(\"ids_test.csv\")\n",
    "#test"
   ]
  },
  {
   "cell_type": "code",
   "execution_count": 4,
   "id": "31d8ea2f-d2b1-43cf-b81c-0f83cca9c17a",
   "metadata": {},
   "outputs": [],
   "source": [
    "agregar_fourier(ventas,2)\n",
    "agregar_fourier(test,2)\n"
   ]
  },
  {
   "cell_type": "code",
   "execution_count": 5,
   "id": "003e0544-8a0d-4873-9d12-76a540604811",
   "metadata": {},
   "outputs": [],
   "source": [
    "ventas=generar_rolling_features(ventas,\"mean_price\",[1,2,3,4],[\"subgroup_cod\",\"store_cod\"])\n",
    "ventas=generar_rolling_features(ventas,\"demand\",[1,2,3,4],[\"subgroup_cod\",\"store_cod\"])"
   ]
  },
  {
   "cell_type": "code",
   "execution_count": null,
   "id": "c59ddb0a-6322-402b-b46a-412dd8ba042f",
   "metadata": {},
   "outputs": [],
   "source": []
  },
  {
   "cell_type": "code",
   "execution_count": 7,
   "id": "35c54e65-eeda-4d46-b401-34f584470717",
   "metadata": {},
   "outputs": [
    {
     "data": {
      "text/plain": [
       "Index(['date', 'demand', 'mean_price', 'std_price', 'max_price', 'min_price',\n",
       "       'cluster', 'store_cod', 'subgroup_cod', 'demand_lag_1', 'demand_lag_2',\n",
       "       'demand_lag_3', 'demand_lag_4', 'demand_lag_5', 'demand_lag_6',\n",
       "       'demand_lag_7', 'day', 'month', 'year', 'anual_sin_1', 'anual_cos_1',\n",
       "       'mensual_sin_1', 'mensual_cos_1', 'anual_sin_2', 'anual_cos_2',\n",
       "       'mensual_sin_2', 'mensual_cos_2', 'mean_price_rolling_mean_7d',\n",
       "       'mean_price_rolling_sum_7d', 'mean_price_rolling_mean_14d',\n",
       "       'mean_price_rolling_sum_14d', 'mean_price_rolling_mean_21d',\n",
       "       'mean_price_rolling_sum_21d', 'mean_price_rolling_mean_28d',\n",
       "       'mean_price_rolling_sum_28d', 'demand_rolling_mean_7d',\n",
       "       'demand_rolling_sum_7d', 'demand_rolling_mean_14d',\n",
       "       'demand_rolling_sum_14d', 'demand_rolling_mean_21d',\n",
       "       'demand_rolling_sum_21d', 'demand_rolling_mean_28d',\n",
       "       'demand_rolling_sum_28d'],\n",
       "      dtype='object')"
      ]
     },
     "execution_count": 7,
     "metadata": {},
     "output_type": "execute_result"
    }
   ],
   "source": [
    "#busquemos otra fecha para probar esto objetivo 01-01-2023 a 07-01-2023\n",
    "\n",
    "# ventas_2023=ventas[ventas[\"date\"]<\"02-01-2023\"]\n",
    "# test_2023=ventas_2023.groupby([\"subgroup_cod\",\"store_cod\"]).tail(7)\n",
    "# train_2023=ventas_2023.drop(test_2023.index)\n",
    "\n",
    "ventas.columns"
   ]
  },
  {
   "cell_type": "code",
   "execution_count": 6,
   "id": "32af706c-bf36-45d1-82c0-718e6a501a60",
   "metadata": {},
   "outputs": [],
   "source": [
    "import numpy as np\n",
    "FEATURES=[\n",
    "   #'mean_price', \n",
    "    'cluster', \n",
    "    #'store_cod', \n",
    "    'subgroup_cod',\n",
    "    #'demand_lag_1', #'demand_lag_2', 'demand_lag_3', \n",
    "    #'demand_lag_4','demand_lag_5', 'demand_lag_6', 'demand_lag_7', 'day', 'month', \n",
    "    'year',\n",
    "   'anual_sin_1', \n",
    "    'anual_cos_1',\n",
    "   'mensual_sin_1', \n",
    "    'mensual_cos_1',\n",
    "   #'anual_sin_2', \n",
    "    #'anual_cos_2',\n",
    "    'mensual_sin_2', \n",
    "    #'mensual_cos_2',\n",
    "   # \"std_price\",\n",
    "    \"max_price\", \n",
    "   \"min_price\",\n",
    "    #'mean_price_rolling_mean_7d',\n",
    "   #    'mean_price_rolling_sum_7d',# 'mean_price_rolling_mean_14d',\n",
    "       #'mean_price_rolling_sum_14d', \n",
    "   # 'mean_price_rolling_mean_21d',\n",
    "     #  'mean_price_rolling_sum_21d', 'mean_price_rolling_mean_28d',\n",
    "    #  'mean_price_rolling_sum_28d', \n",
    "    #'demand_rolling_mean_7d',\n",
    "    #  'demand_rolling_sum_7d', \n",
    "    'demand_rolling_mean_14d',\n",
    "     #  'demand_rolling_sum_14d', #'demand_rolling_mean_21d',\n",
    "       #'demand_rolling_sum_21d', #'demand_rolling_mean_28d',\n",
    "      # 'demand_rolling_sum_28d'\n",
    "    'std_discount', 'max_discount', 'min_discount', 'std_diff_factory',\n",
    "    'max_diff_factory', 'min_diff_factory'\n",
    "] #recordar que ya probamos con fourier 3 y 4 y fue un fracaso\n",
    "\n",
    "TARGET=['demand']\n",
    "\n",
    "test_interno=ventas.groupby([\"subgroup_cod\",\"store_cod\"]).tail(7)\n",
    "train=ventas\n",
    "train_interno=ventas.drop(test_interno.index)\n",
    "\n",
    "X_train=train[FEATURES]\n",
    "y_train=train[TARGET]\n",
    "X_test_real=test[FEATURES]\n",
    "\n",
    "X_train_interno=train_interno[FEATURES]\n",
    "y_train_interno=train_interno[TARGET]\n",
    "\n",
    "X_test_interno=test_interno[FEATURES]\n",
    "y_test_interno=test_interno[TARGET]\n",
    "\n",
    "#y_train_interno_log=np.log1p(y_train_interno)\n",
    "#y_test_interno_log=np.log1p(y_test_interno)\n",
    "\n",
    "\n",
    "# X_test_2023=test_2023[FEATURES]\n",
    "# y_test_2023=test_2023[TARGET]\n",
    "\n",
    "# X_train_2023=train_2023[FEATURES]\n",
    "# y_train_2023=train_2023[TARGET]"
   ]
  },
  {
   "cell_type": "markdown",
   "id": "c9a2e3b0-a90f-44ea-9e55-f9daa11dd8de",
   "metadata": {},
   "source": [
    "## Modelo interno"
   ]
  },
  {
   "cell_type": "code",
   "execution_count": null,
   "id": "7a969f8a-cd30-41d4-bd78-52a907f20132",
   "metadata": {},
   "outputs": [
    {
     "name": "stdout",
     "output_type": "stream",
     "text": [
      "[0]\tvalidation_0-rmse:3.17350\n",
      "[50]\tvalidation_0-rmse:2.16045\n",
      "[100]\tvalidation_0-rmse:2.04869\n",
      "[150]\tvalidation_0-rmse:1.94115\n"
     ]
    }
   ],
   "source": [
    "from sklearn.metrics import r2_score\n",
    "\n",
    "reg = xgb.XGBRegressor(\n",
    "    n_estimators=1000,\n",
    "    eval_metric=\"rmse\",\n",
    "    eta=0.05,\n",
    "    max_depth=6,\n",
    "   #colsample_bytree=0.9, #reducir el numero de columnas aumenta la importancia de std_price\n",
    "    early_stopping_rounds=50 \n",
    ")\n",
    "\n",
    "reg.fit(\n",
    "    X_train_interno, y_train_interno\n",
    "   ,eval_set=[(X_test_interno, y_test_interno)]   \n",
    "   ,verbose=50                       \n",
    ")\n",
    "#sin anual_sin_2 450 estimadores =0.11283 y con da lo mismo"
   ]
  },
  {
   "cell_type": "code",
   "execution_count": 40,
   "id": "b765b22d-d1fb-46c1-a937-a0eb9b62bd50",
   "metadata": {},
   "outputs": [
    {
     "data": {
      "text/html": [
       "<div>\n",
       "<style scoped>\n",
       "    .dataframe tbody tr th:only-of-type {\n",
       "        vertical-align: middle;\n",
       "    }\n",
       "\n",
       "    .dataframe tbody tr th {\n",
       "        vertical-align: top;\n",
       "    }\n",
       "\n",
       "    .dataframe thead th {\n",
       "        text-align: right;\n",
       "    }\n",
       "</style>\n",
       "<table border=\"1\" class=\"dataframe\">\n",
       "  <thead>\n",
       "    <tr style=\"text-align: right;\">\n",
       "      <th></th>\n",
       "      <th>importance</th>\n",
       "    </tr>\n",
       "  </thead>\n",
       "  <tbody>\n",
       "    <tr>\n",
       "      <th>max_price</th>\n",
       "      <td>0.263704</td>\n",
       "    </tr>\n",
       "    <tr>\n",
       "      <th>min_price</th>\n",
       "      <td>0.209086</td>\n",
       "    </tr>\n",
       "    <tr>\n",
       "      <th>demand_rolling_mean_14d</th>\n",
       "      <td>0.083938</td>\n",
       "    </tr>\n",
       "    <tr>\n",
       "      <th>year</th>\n",
       "      <td>0.069071</td>\n",
       "    </tr>\n",
       "    <tr>\n",
       "      <th>mensual_cos_1</th>\n",
       "      <td>0.066970</td>\n",
       "    </tr>\n",
       "    <tr>\n",
       "      <th>demand_rolling_sum_7d</th>\n",
       "      <td>0.059225</td>\n",
       "    </tr>\n",
       "    <tr>\n",
       "      <th>demand_rolling_sum_14d</th>\n",
       "      <td>0.055347</td>\n",
       "    </tr>\n",
       "    <tr>\n",
       "      <th>anual_sin_1</th>\n",
       "      <td>0.041263</td>\n",
       "    </tr>\n",
       "    <tr>\n",
       "      <th>anual_cos_1</th>\n",
       "      <td>0.027554</td>\n",
       "    </tr>\n",
       "    <tr>\n",
       "      <th>cluster</th>\n",
       "      <td>0.027519</td>\n",
       "    </tr>\n",
       "    <tr>\n",
       "      <th>mensual_sin_1</th>\n",
       "      <td>0.026435</td>\n",
       "    </tr>\n",
       "    <tr>\n",
       "      <th>mensual_sin_2</th>\n",
       "      <td>0.026057</td>\n",
       "    </tr>\n",
       "    <tr>\n",
       "      <th>subgroup_cod</th>\n",
       "      <td>0.023885</td>\n",
       "    </tr>\n",
       "    <tr>\n",
       "      <th>demand_rolling_mean_7d</th>\n",
       "      <td>0.012116</td>\n",
       "    </tr>\n",
       "    <tr>\n",
       "      <th>mean_price</th>\n",
       "      <td>0.007833</td>\n",
       "    </tr>\n",
       "  </tbody>\n",
       "</table>\n",
       "</div>"
      ],
      "text/plain": [
       "                         importance\n",
       "max_price                  0.263704\n",
       "min_price                  0.209086\n",
       "demand_rolling_mean_14d    0.083938\n",
       "year                       0.069071\n",
       "mensual_cos_1              0.066970\n",
       "demand_rolling_sum_7d      0.059225\n",
       "demand_rolling_sum_14d     0.055347\n",
       "anual_sin_1                0.041263\n",
       "anual_cos_1                0.027554\n",
       "cluster                    0.027519\n",
       "mensual_sin_1              0.026435\n",
       "mensual_sin_2              0.026057\n",
       "subgroup_cod               0.023885\n",
       "demand_rolling_mean_7d     0.012116\n",
       "mean_price                 0.007833"
      ]
     },
     "execution_count": 40,
     "metadata": {},
     "output_type": "execute_result"
    }
   ],
   "source": [
    "pd.DataFrame(reg.feature_importances_,columns=[\"importance\"],index=reg.feature_names_in_).sort_values(by=\"importance\",ascending=False)"
   ]
  },
  {
   "cell_type": "markdown",
   "id": "3772a00e-df65-4cac-9600-638edad6496c",
   "metadata": {},
   "source": [
    "## Modelo kraggel\n"
   ]
  },
  {
   "cell_type": "code",
   "execution_count": 8,
   "id": "3a64c0c6-0c15-4e55-b6cc-99779f3e37fe",
   "metadata": {},
   "outputs": [
    {
     "ename": "NameError",
     "evalue": "name 'reg' is not defined",
     "output_type": "error",
     "traceback": [
      "\u001b[1;31m---------------------------------------------------------------------------\u001b[0m",
      "\u001b[1;31mNameError\u001b[0m                                 Traceback (most recent call last)",
      "Cell \u001b[1;32mIn[8], line 4\u001b[0m\n\u001b[0;32m      1\u001b[0m \u001b[38;5;28;01mfrom\u001b[39;00m \u001b[38;5;21;01msklearn\u001b[39;00m\u001b[38;5;21;01m.\u001b[39;00m\u001b[38;5;21;01mmetrics\u001b[39;00m \u001b[38;5;28;01mimport\u001b[39;00m mean_squared_error\n\u001b[0;32m      2\u001b[0m \u001b[38;5;28;01mimport\u001b[39;00m \u001b[38;5;21;01mnumpy\u001b[39;00m \u001b[38;5;28;01mas\u001b[39;00m \u001b[38;5;21;01mnp\u001b[39;00m\n\u001b[1;32m----> 4\u001b[0m prediccion\u001b[38;5;241m=\u001b[39m\u001b[43mreg\u001b[49m\u001b[38;5;241m.\u001b[39mpredict(X_test_interno)\n\u001b[0;32m      7\u001b[0m \u001b[38;5;66;03m# y_true_log y y_pred_log están en escala log1p\u001b[39;00m\n\u001b[0;32m      8\u001b[0m y_true_original \u001b[38;5;241m=\u001b[39m np\u001b[38;5;241m.\u001b[39mexpm1(y_test_interno_log)\n",
      "\u001b[1;31mNameError\u001b[0m: name 'reg' is not defined"
     ]
    }
   ],
   "source": [
    "from sklearn.metrics import mean_squared_error\n",
    "import numpy as np\n",
    "\n",
    "prediccion=reg.predict(X_test_interno)\n",
    "\n",
    "\n",
    "# y_true_log y y_pred_log están en escala log1p\n",
    "y_true_original = np.expm1(y_test_interno_log)\n",
    "y_pred_original = np.expm1(prediccion)\n",
    "\n",
    "rmse_original = np.sqrt(mean_squared_error(y_true_original, y_pred_original))\n",
    "\n",
    "print(rmse_original)\n",
    "print(r2_score(y_true_original,y_pred_original))\n",
    "orden_bueno = pd.DataFrame({\n",
    "    \"store_subgroup_date_id\": test[\"store_subgroup_date_id\"],\n",
    "    \"prediccion\": prediccion.ravel()\n",
    "})\n",
    "\n",
    "kaggle=crear_archivo_kaggle(orden_bueno)"
   ]
  },
  {
   "cell_type": "code",
   "execution_count": 11,
   "id": "0faf3e5c-cd3f-4e57-8a0f-2f6a742268e4",
   "metadata": {},
   "outputs": [
    {
     "data": {
      "text/plain": [
       "5.333333333333333"
      ]
     },
     "execution_count": 11,
     "metadata": {},
     "output_type": "execute_result"
    }
   ],
   "source": [
    "#kaggle.describe()\n",
    "400*48/60/60"
   ]
  },
  {
   "cell_type": "code",
   "execution_count": 48,
   "id": "6b824258-9034-47ad-b4c5-60654f5483f7",
   "metadata": {},
   "outputs": [],
   "source": [
    "ventas_computing=generar_rolling_features(ventas_computing,\"demand\",[1,4],[\"subgroup_cod\",\"store_cod\"])"
   ]
  }
 ],
 "metadata": {
  "kernelspec": {
   "display_name": "Python 3 (ipykernel)",
   "language": "python",
   "name": "python3"
  },
  "language_info": {
   "codemirror_mode": {
    "name": "ipython",
    "version": 3
   },
   "file_extension": ".py",
   "mimetype": "text/x-python",
   "name": "python",
   "nbconvert_exporter": "python",
   "pygments_lexer": "ipython3",
   "version": "3.12.4"
  }
 },
 "nbformat": 4,
 "nbformat_minor": 5
}
