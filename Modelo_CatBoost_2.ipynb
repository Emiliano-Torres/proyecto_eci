{
 "cells": [
  {
   "cell_type": "markdown",
   "id": "e64a63e4",
   "metadata": {},
   "source": [
    "# CatBoost pipeline (basado en Modelo_prediccion)"
   ]
  },
  {
   "cell_type": "markdown",
   "id": "67795353",
   "metadata": {},
   "source": [
    "Este notebook carga las funciones de `DataLoader.py`, prepara los datos respetando validación temporal, entrena un `CatBoostRegressor`, evalúa el modelo, calcula elasticidades y exporta las predicciones en formato Kaggle."
   ]
  },
  {
   "cell_type": "code",
   "execution_count": 2,
   "id": "d65ec540",
   "metadata": {},
   "outputs": [
    {
     "name": "stdout",
     "output_type": "stream",
     "text": [
      "Imports OK\n"
     ]
    }
   ],
   "source": [
    "# Imports y funciones\n",
    "import warnings\n",
    "warnings.filterwarnings('ignore')\n",
    "from DataLoader import importar_ventas, preparar_test, agregar_fourier, crear_archivo_kaggle, leer_csv\n",
    "import pandas as pd\n",
    "import numpy as np\n",
    "from catboost import CatBoostRegressor, Pool\n",
    "from sklearn.metrics import root_mean_squared_error, mean_absolute_error\n",
    "import os\n",
    "print('Imports OK')"
   ]
  },
  {
   "cell_type": "code",
   "execution_count": 3,
   "id": "187421e0",
   "metadata": {},
   "outputs": [],
   "source": [
    "# 1) Cargar datos (usa las funciones del DataLoader)\n",
    "\n",
    "ventas = importar_ventas()"
   ]
  },
  {
   "cell_type": "code",
   "execution_count": 4,
   "id": "b72b2a97",
   "metadata": {},
   "outputs": [
    {
     "name": "stdout",
     "output_type": "stream",
     "text": [
      "Fourier agregado\n"
     ]
    }
   ],
   "source": [
    "# 2) Añadir Fourier (k=2) si se pudo cargar\n",
    "\n",
    "agregar_fourier(ventas, k=2)\n",
    "\n",
    "print('Fourier agregado')"
   ]
  },
  {
   "cell_type": "code",
   "execution_count": 5,
   "id": "0d3bf5a7",
   "metadata": {},
   "outputs": [
    {
     "name": "stdout",
     "output_type": "stream",
     "text": [
      "Features definidos: ['subgroup_cod', 'cluster', 'max_price', 'min_price', 'year', 'anual_sin_1', 'anual_cos_1', 'mensual_sin_1', 'mensual_cos_1']\n"
     ]
    }
   ],
   "source": [
    "# 3) Definir features\n",
    "\n",
    "cat_features = ['subgroup_cod','cluster']\n",
    "num_features = ['max_price','min_price','year',\n",
    "                'anual_sin_1','anual_cos_1','mensual_sin_1','mensual_cos_1']\n",
    "\n",
    "# Categóricas (cat_features) → CatBoost las maneja de forma nativa.\n",
    "# Numéricas (num_features) → precios, variables de tiempo, Fourier y lags\n",
    "\n",
    "features = cat_features + num_features\n",
    "print('Features definidos:', features)"
   ]
  },
  {
   "cell_type": "code",
   "execution_count": 6,
   "id": "0d398c6b",
   "metadata": {},
   "outputs": [
    {
     "name": "stdout",
     "output_type": "stream",
     "text": [
      "Train dates: 2021-01-01 00:00:00 -> 2023-12-23 00:00:00\n",
      "Valid dates: 2023-12-24 00:00:00 -> 2023-12-31 00:00:00\n"
     ]
    }
   ],
   "source": [
    "# 4) Split temporal: evitar leakage\n",
    "if ventas is not None:\n",
    "    max_date = ventas['date'].max()\n",
    "    val_start = max_date - pd.Timedelta(days=7)\n",
    "    \n",
    "    train = ventas[ventas['date'] < val_start].copy()\n",
    "    valid = ventas[ventas['date'] >= val_start].copy()\n",
    "    \n",
    "    print('Train dates:', train['date'].min(), '->', train['date'].max())\n",
    "    print('Valid dates:', valid['date'].min(), '->', valid['date'].max())\n",
    "else:\n",
    "    train = valid = None"
   ]
  },
  {
   "cell_type": "code",
   "execution_count": 7,
   "id": "08ea8b19",
   "metadata": {},
   "outputs": [
    {
     "name": "stdout",
     "output_type": "stream",
     "text": [
      "Pools creados.\n"
     ]
    }
   ],
   "source": [
    "# 5) Preparar matrices para CatBoost\n",
    "\n",
    "if train is not None and valid is not None and len(valid)>0:\n",
    "    \n",
    "    X_train = train[features]\n",
    "    y_train = train['demand'] * train['mean_price']\n",
    "    \n",
    "    X_valid = valid[features]\n",
    "    y_valid = valid['demand'] * valid['mean_price']\n",
    "    \n",
    "    # Pools\n",
    "    train_pool = Pool(X_train, y_train, cat_features=cat_features)\n",
    "    valid_pool = Pool(X_valid, y_valid, cat_features=cat_features)\n",
    "    \n",
    "    print('Pools creados.')\n",
    "    \n",
    "else:\n",
    "    train_pool = valid_pool = None\n",
    "    print('No se pudieron crear pools por falta de datos')"
   ]
  },
  {
   "cell_type": "code",
   "execution_count": 8,
   "id": "2bf7f9f0",
   "metadata": {},
   "outputs": [
    {
     "name": "stdout",
     "output_type": "stream",
     "text": [
      "0:\tlearn: 541.2749955\ttest: 432.0585146\tbest: 432.0585146 (0)\ttotal: 2.04s\tremaining: 1h 8m 4s\n",
      "100:\tlearn: 314.2336895\ttest: 238.4541843\tbest: 238.4541843 (100)\ttotal: 2m 29s\tremaining: 46m 43s\n",
      "200:\tlearn: 299.7196660\ttest: 232.6594700\tbest: 232.6594700 (200)\ttotal: 4m 54s\tremaining: 43m 53s\n",
      "300:\tlearn: 292.0080187\ttest: 230.4593270\tbest: 230.4593270 (300)\ttotal: 7m 18s\tremaining: 41m 14s\n",
      "400:\tlearn: 287.5303210\ttest: 229.0589808\tbest: 229.0589808 (400)\ttotal: 9m 38s\tremaining: 38m 25s\n",
      "500:\tlearn: 284.7707845\ttest: 228.3900723\tbest: 228.3900723 (500)\ttotal: 11m 53s\tremaining: 35m 33s\n",
      "600:\tlearn: 282.2580904\ttest: 227.7269686\tbest: 227.7269686 (600)\ttotal: 14m 10s\tremaining: 33m\n",
      "700:\tlearn: 279.8921675\ttest: 227.3253495\tbest: 227.3253495 (700)\ttotal: 16m 23s\tremaining: 30m 22s\n",
      "800:\tlearn: 278.1361973\ttest: 226.9534986\tbest: 226.9449914 (797)\ttotal: 18m 35s\tremaining: 27m 49s\n",
      "900:\tlearn: 277.0379747\ttest: 226.6384921\tbest: 226.6384921 (900)\ttotal: 20m 45s\tremaining: 25m 18s\n",
      "1000:\tlearn: 276.1075131\ttest: 226.3242388\tbest: 226.3170292 (998)\ttotal: 22m 54s\tremaining: 22m 52s\n",
      "1100:\tlearn: 275.2911347\ttest: 226.2908514\tbest: 226.2338278 (1044)\ttotal: 25m 2s\tremaining: 20m 27s\n",
      "1200:\tlearn: 274.6328945\ttest: 226.1466567\tbest: 226.1466567 (1200)\ttotal: 27m 12s\tremaining: 18m 6s\n",
      "1300:\tlearn: 273.9379441\ttest: 225.9945698\tbest: 225.9945698 (1300)\ttotal: 29m 25s\tremaining: 15m 48s\n",
      "1400:\tlearn: 273.3424917\ttest: 225.7936535\tbest: 225.7936535 (1400)\ttotal: 31m 36s\tremaining: 13m 30s\n",
      "1500:\tlearn: 272.7371932\ttest: 225.6073562\tbest: 225.6073562 (1500)\ttotal: 33m 47s\tremaining: 11m 13s\n",
      "1600:\tlearn: 272.3794237\ttest: 225.6006674\tbest: 225.5737844 (1550)\ttotal: 35m 52s\tremaining: 8m 56s\n",
      "Stopped by overfitting detector  (100 iterations wait)\n",
      "\n",
      "bestTest = 225.5737844\n",
      "bestIteration = 1550\n",
      "\n",
      "Shrink model to first 1551 iterations.\n",
      "Modelo entrenado y guardado: catboost_model_2.cbm\n"
     ]
    }
   ],
   "source": [
    "# 6) Entrenar CatBoost\n",
    "if train_pool is not None and valid_pool is not None:\n",
    "    model = CatBoostRegressor(\n",
    "        iterations = 2000, # Número máximo de árboles de decisión\n",
    "        learning_rate = 0.05, # Controla cuánto se ajusta el modelo en cada iteración\n",
    "        depth = 8, # Profundidad máxima de cada árbol.\n",
    "        loss_function = 'RMSE', # Función de pérdida que el modelo optimiza\n",
    "        eval_metric = 'RMSE', # Métrica usada para evaluar el rendimiento en el conjunto de validación durante el entrenamiento\n",
    "        random_seed = 42, # Semilla aleatoria para reproducibilidad.\n",
    "        early_stopping_rounds = 100, # Si el modelo no mejora la métrica de validación en 100 iteraciones consecutivas, se detiene antes de llegar a iterations.\n",
    "        verbose=100 # Imprime el progreso cada 100 iteraciones.\n",
    "    )\n",
    "    \n",
    "    model.fit(train_pool, eval_set=valid_pool)\n",
    "    model.save_model('catboost_model.cbm')\n",
    "    print('Modelo entrenado y guardado: catboost_model_2.cbm')\n",
    "    \n",
    "else:\n",
    "    model = None\n",
    "    print('No se entrenó el modelo')"
   ]
  },
  {
   "cell_type": "code",
   "execution_count": 9,
   "id": "8c9759ad",
   "metadata": {},
   "outputs": [
    {
     "name": "stdout",
     "output_type": "stream",
     "text": [
      "Valid RMSE: 225.5738, MAE: 110.6898\n"
     ]
    }
   ],
   "source": [
    "# 7) Evaluación en validación\n",
    "\n",
    "if model is not None and valid is not None:\n",
    "    \n",
    "    y_pred_val = model.predict(valid[features])\n",
    "    rmse = root_mean_squared_error(valid['demand'] * valid['mean_price'], y_pred_val)\n",
    "    mae  = mean_absolute_error(valid['demand'] * valid['mean_price'], y_pred_val)\n",
    "    \n",
    "    print(f'Valid RMSE: {rmse:.4f}, MAE: {mae:.4f}')\n",
    "    \n",
    "else:\n",
    "    print('No hay evaluación realizada')"
   ]
  },
  {
   "cell_type": "code",
   "execution_count": 11,
   "id": "15265ce8",
   "metadata": {},
   "outputs": [
    {
     "name": "stdout",
     "output_type": "stream",
     "text": [
      "Archivo prediccion_kaggle.csv creado con Total Sales directamente\n"
     ]
    }
   ],
   "source": [
    "# 8) Predicción sobre test preparado y preparación de Kaggle\n",
    "\n",
    "test = preparar_test('ids_test.csv', ventas, features)\n",
    "agregar_fourier(test, k=2)\n",
    "\n",
    "# Asegurar columnas\n",
    "for c in num_features:\n",
    "    if c not in test.columns:\n",
    "        test[c] = np.nan\n",
    "    \n",
    "test = test.sort_values(['subgroup_cod','store_cod','date']).reset_index(drop=True)\n",
    "X_test = test[features].fillna(0)\n",
    "test_pool = Pool(X_test, cat_features=cat_features)\n",
    "\n",
    "# Predicción en $\n",
    "y_test_pred = model.predict(test_pool)\n",
    "\n",
    "# Guardar en formato Kaggle\n",
    "pred_df = pd.DataFrame({\n",
    "    'store_subgroup_date_id': test['store_subgroup_date_id'],\n",
    "    'Total Sales': y_test_pred\n",
    "})\n",
    "pred_df.to_csv('prediccion_kaggle.csv', index=False)\n",
    "print('Archivo prediccion_kaggle.csv creado con Total Sales directamente')"
   ]
  }
 ],
 "metadata": {
  "kernelspec": {
   "display_name": "Python 3",
   "language": "python",
   "name": "python3"
  },
  "language_info": {
   "codemirror_mode": {
    "name": "ipython",
    "version": 3
   },
   "file_extension": ".py",
   "mimetype": "text/x-python",
   "name": "python",
   "nbconvert_exporter": "python",
   "pygments_lexer": "ipython3",
   "version": "3.10.1"
  }
 },
 "nbformat": 4,
 "nbformat_minor": 5
}
